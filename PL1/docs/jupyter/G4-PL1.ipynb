{
 "cells": [
  {
   "cell_type": "markdown",
   "metadata": {},
   "source": [
    "# PL1 - G4\n"
   ]
  },
  {
   "cell_type": "markdown",
   "metadata": {},
   "source": [
    "## FIRST EXERCISE\n",
    "\n",
    "Fist step is read the file \"satelites.csv\" to obtain the radios for each planet."
   ]
  },
  {
   "cell_type": "code",
   "execution_count": 31,
   "metadata": {},
   "outputs": [
    {
     "name": "stdout",
     "output_type": "stream",
     "text": [
      "[13, 16, 22, 33, 39, 42, 27, 34, 20, 30, 20, 15]\n"
     ]
    }
   ],
   "source": [
    "# Load needed packages\n",
    "import csv\n",
    "\n",
    "# Read CSV File, here we obtain a list of str\n",
    "def ReadCSV(FileName):\n",
    "    with open(FileName, newline = '') as File:\n",
    "        reader = csv.reader(File)\n",
    "        data = []\n",
    "        for row in reader:\n",
    "            data.append(row)\n",
    "        return(data)\n",
    "\n",
    "# Before having the radios, we need to filter the list in order to\n",
    "# delete unesefull data, such as '\\t' or headers\n",
    "\n",
    "def GetData(data):\n",
    "    listFilter = []\n",
    "    for i in range(len(data)):\n",
    "        fil = \"\".join(map(str, list(filter(lambda x: x!= '\\t', list(data[i]))))).split()\n",
    "        listFilter.append(fil)\n",
    "\n",
    "    result= []\n",
    "    # We start in 1, just to delete headers\n",
    "    for i in range(1,len(listFilter)):\n",
    "        #Get the radius data with int tyipe\n",
    "        result.append(int(listFilter[i].pop(1)))\n",
    "    return(result)\n",
    "\n",
    "    \n",
    "# IMPORTANT: If the file is not inside the same place as this code, we necessary have \n",
    "# to put the completed route to the file\n",
    "s = (GetData(ReadCSV('satelites.csv')))\n",
    "print(s)\n",
    "\n",
    "        "
   ]
  },
  {
   "cell_type": "markdown",
   "metadata": {},
   "source": [
    "Now, analysis as mode, median, range, variance... will be apply in the data.\n",
    "The main libraries used in this analysis are: statistics, panda and numpy; wich provides easily ways to made this operations."
   ]
  },
  {
   "cell_type": "code",
   "execution_count": 32,
   "metadata": {},
   "outputs": [
    {
     "name": "stdout",
     "output_type": "stream",
     "text": [
      "AVERAGE MEAN:      25.916666666666668\n"
     ]
    }
   ],
   "source": [
    "# Package for statistics' function\n",
    "import statistics as stats\n",
    "\n",
    "def mean(data):\n",
    "    return (stats.mean(data) )\n",
    "\n",
    "print(\"AVERAGE MEAN:     \",mean(s))"
   ]
  },
  {
   "cell_type": "code",
   "execution_count": 33,
   "metadata": {},
   "outputs": [
    {
     "name": "stdout",
     "output_type": "stream",
     "text": [
      "RANGE:      29\n"
     ]
    }
   ],
   "source": [
    "def Range(data):\n",
    "    return (max(data)-min(data))\n",
    "\n",
    "print(\"RANGE:     \",Range(s))"
   ]
  },
  {
   "cell_type": "code",
   "execution_count": 34,
   "metadata": {},
   "outputs": [
    {
     "name": "stdout",
     "output_type": "stream",
     "text": [
      "MODE:       20\n"
     ]
    }
   ],
   "source": [
    "def Mode(data):\n",
    "    return (stats.mode(data))\n",
    "\n",
    "print(\"MODE:      \", Mode(s))"
   ]
  },
  {
   "cell_type": "code",
   "execution_count": 35,
   "metadata": {},
   "outputs": [
    {
     "name": "stdout",
     "output_type": "stream",
     "text": [
      "MEDIAN:      24.5\n"
     ]
    }
   ],
   "source": [
    "def Median(data):\n",
    "    return(stats.median(data))\n",
    "print(\"MEDIAN:     \",Median(s))"
   ]
  },
  {
   "cell_type": "code",
   "execution_count": 36,
   "metadata": {},
   "outputs": [
    {
     "name": "stdout",
     "output_type": "stream",
     "text": [
      "VARIANCE 93.90151515151516\n"
     ]
    }
   ],
   "source": [
    "def Variance(data):\n",
    "    return(stats.variance(data)) #it can be calculate with variance's function\n",
    "print(\"VARIANCE\", Variance(s))"
   ]
  },
  {
   "cell_type": "code",
   "execution_count": 37,
   "metadata": {},
   "outputs": [
    {
     "name": "stdout",
     "output_type": "stream",
     "text": [
      "STANDAR DESVIATION:  9.27773619418492\n"
     ]
    }
   ],
   "source": [
    "def StandarDev(data):\n",
    "    return(stats.pstdev(data)) #o con stdev\n",
    "\n",
    "print(\"STANDAR DESVIATION: \", StandarDev(s) )"
   ]
  },
  {
   "cell_type": "code",
   "execution_count": 38,
   "metadata": {},
   "outputs": [
    {
     "name": "stdout",
     "output_type": "stream",
     "text": [
      "ABSOLUTE FRECUENCY:\n",
      "\n"
     ]
    },
    {
     "data": {
      "text/html": [
       "<div>\n",
       "<style scoped>\n",
       "    .dataframe tbody tr th:only-of-type {\n",
       "        vertical-align: middle;\n",
       "    }\n",
       "\n",
       "    .dataframe tbody tr th {\n",
       "        vertical-align: top;\n",
       "    }\n",
       "\n",
       "    .dataframe thead th {\n",
       "        text-align: right;\n",
       "    }\n",
       "</style>\n",
       "<table border=\"1\" class=\"dataframe\">\n",
       "  <thead>\n",
       "    <tr style=\"text-align: right;\">\n",
       "      <th></th>\n",
       "      <th>20</th>\n",
       "      <th>15</th>\n",
       "      <th>30</th>\n",
       "      <th>13</th>\n",
       "      <th>27</th>\n",
       "      <th>42</th>\n",
       "      <th>39</th>\n",
       "      <th>22</th>\n",
       "      <th>34</th>\n",
       "      <th>33</th>\n",
       "      <th>16</th>\n",
       "    </tr>\n",
       "  </thead>\n",
       "  <tbody>\n",
       "    <tr>\n",
       "      <th>0</th>\n",
       "      <td>2</td>\n",
       "      <td>1</td>\n",
       "      <td>1</td>\n",
       "      <td>1</td>\n",
       "      <td>1</td>\n",
       "      <td>1</td>\n",
       "      <td>1</td>\n",
       "      <td>1</td>\n",
       "      <td>1</td>\n",
       "      <td>1</td>\n",
       "      <td>1</td>\n",
       "    </tr>\n",
       "  </tbody>\n",
       "</table>\n",
       "</div>"
      ],
      "text/plain": [
       "   20  15  30  13  27  42  39  22  34  33  16\n",
       "0   2   1   1   1   1   1   1   1   1   1   1"
      ]
     },
     "execution_count": 38,
     "metadata": {},
     "output_type": "execute_result"
    }
   ],
   "source": [
    "import pandas as pd\n",
    "def absFrec(data):\n",
    "    datos = pd.Series(data)\n",
    "    return (datos.value_counts())\n",
    "\n",
    "print(\"ABSOLUTE FRECUENCY:\\n\")\n",
    "\n",
    "absFrec(s).to_frame().T"
   ]
  },
  {
   "cell_type": "code",
   "execution_count": 39,
   "metadata": {},
   "outputs": [
    {
     "name": "stdout",
     "output_type": "stream",
     "text": [
      "ABSOLUTE ACUMULATED FRECUENCY: \n"
     ]
    },
    {
     "data": {
      "text/html": [
       "<div>\n",
       "<style scoped>\n",
       "    .dataframe tbody tr th:only-of-type {\n",
       "        vertical-align: middle;\n",
       "    }\n",
       "\n",
       "    .dataframe tbody tr th {\n",
       "        vertical-align: top;\n",
       "    }\n",
       "\n",
       "    .dataframe thead th {\n",
       "        text-align: right;\n",
       "    }\n",
       "</style>\n",
       "<table border=\"1\" class=\"dataframe\">\n",
       "  <thead>\n",
       "    <tr style=\"text-align: right;\">\n",
       "      <th></th>\n",
       "      <th>20</th>\n",
       "      <th>15</th>\n",
       "      <th>30</th>\n",
       "      <th>13</th>\n",
       "      <th>27</th>\n",
       "      <th>42</th>\n",
       "      <th>39</th>\n",
       "      <th>22</th>\n",
       "      <th>34</th>\n",
       "      <th>33</th>\n",
       "      <th>16</th>\n",
       "    </tr>\n",
       "  </thead>\n",
       "  <tbody>\n",
       "    <tr>\n",
       "      <th>0</th>\n",
       "      <td>2</td>\n",
       "      <td>3</td>\n",
       "      <td>4</td>\n",
       "      <td>5</td>\n",
       "      <td>6</td>\n",
       "      <td>7</td>\n",
       "      <td>8</td>\n",
       "      <td>9</td>\n",
       "      <td>10</td>\n",
       "      <td>11</td>\n",
       "      <td>12</td>\n",
       "    </tr>\n",
       "  </tbody>\n",
       "</table>\n",
       "</div>"
      ],
      "text/plain": [
       "   20  15  30  13  27  42  39  22  34  33  16\n",
       "0   2   3   4   5   6   7   8   9  10  11  12"
      ]
     },
     "execution_count": 39,
     "metadata": {},
     "output_type": "execute_result"
    }
   ],
   "source": [
    "def absFrec_acum(data):\n",
    "    datos = pd.Series(absFrec(data))\n",
    "    return datos.cumsum()\n",
    " \n",
    "\n",
    "print(\"ABSOLUTE ACUMULATED FRECUENCY: \")\n",
    "absFrec_acum(s).to_frame().T"
   ]
  },
  {
   "cell_type": "code",
   "execution_count": 40,
   "metadata": {},
   "outputs": [
    {
     "name": "stdout",
     "output_type": "stream",
     "text": [
      "RELATIVE ACUMULATED FRECUENCY: \n"
     ]
    },
    {
     "data": {
      "text/html": [
       "<div>\n",
       "<style scoped>\n",
       "    .dataframe tbody tr th:only-of-type {\n",
       "        vertical-align: middle;\n",
       "    }\n",
       "\n",
       "    .dataframe tbody tr th {\n",
       "        vertical-align: top;\n",
       "    }\n",
       "\n",
       "    .dataframe thead th {\n",
       "        text-align: right;\n",
       "    }\n",
       "</style>\n",
       "<table border=\"1\" class=\"dataframe\">\n",
       "  <thead>\n",
       "    <tr style=\"text-align: right;\">\n",
       "      <th></th>\n",
       "      <th>20</th>\n",
       "      <th>15</th>\n",
       "      <th>30</th>\n",
       "      <th>13</th>\n",
       "      <th>27</th>\n",
       "      <th>42</th>\n",
       "      <th>39</th>\n",
       "      <th>22</th>\n",
       "      <th>34</th>\n",
       "      <th>33</th>\n",
       "      <th>16</th>\n",
       "    </tr>\n",
       "  </thead>\n",
       "  <tbody>\n",
       "    <tr>\n",
       "      <th>0</th>\n",
       "      <td>0.166667</td>\n",
       "      <td>0.083333</td>\n",
       "      <td>0.083333</td>\n",
       "      <td>0.083333</td>\n",
       "      <td>0.083333</td>\n",
       "      <td>0.083333</td>\n",
       "      <td>0.083333</td>\n",
       "      <td>0.083333</td>\n",
       "      <td>0.083333</td>\n",
       "      <td>0.083333</td>\n",
       "      <td>0.083333</td>\n",
       "    </tr>\n",
       "  </tbody>\n",
       "</table>\n",
       "</div>"
      ],
      "text/plain": [
       "         20        15        30        13        27        42        39  \\\n",
       "0  0.166667  0.083333  0.083333  0.083333  0.083333  0.083333  0.083333   \n",
       "\n",
       "         22        34        33        16  \n",
       "0  0.083333  0.083333  0.083333  0.083333  "
      ]
     },
     "execution_count": 40,
     "metadata": {},
     "output_type": "execute_result"
    }
   ],
   "source": [
    "def relFrec(data):\n",
    "    datos = pd.Series(data)\n",
    "    for i in range(len(data)):\n",
    "        return (absFrec(data)/len(data))\n",
    "        \n",
    "print(\"RELATIVE ACUMULATED FRECUENCY: \")\n",
    "\n",
    "relFrec(s).to_frame().T"
   ]
  },
  {
   "cell_type": "code",
   "execution_count": 41,
   "metadata": {},
   "outputs": [
    {
     "name": "stdout",
     "output_type": "stream",
     "text": [
      "RELATIVE ACUMULATED FRECUENCY: \n"
     ]
    },
    {
     "data": {
      "text/html": [
       "<div>\n",
       "<style scoped>\n",
       "    .dataframe tbody tr th:only-of-type {\n",
       "        vertical-align: middle;\n",
       "    }\n",
       "\n",
       "    .dataframe tbody tr th {\n",
       "        vertical-align: top;\n",
       "    }\n",
       "\n",
       "    .dataframe thead th {\n",
       "        text-align: right;\n",
       "    }\n",
       "</style>\n",
       "<table border=\"1\" class=\"dataframe\">\n",
       "  <thead>\n",
       "    <tr style=\"text-align: right;\">\n",
       "      <th></th>\n",
       "      <th>20</th>\n",
       "      <th>15</th>\n",
       "      <th>30</th>\n",
       "      <th>13</th>\n",
       "      <th>27</th>\n",
       "      <th>42</th>\n",
       "      <th>39</th>\n",
       "      <th>22</th>\n",
       "      <th>34</th>\n",
       "      <th>33</th>\n",
       "      <th>16</th>\n",
       "    </tr>\n",
       "  </thead>\n",
       "  <tbody>\n",
       "    <tr>\n",
       "      <th>0</th>\n",
       "      <td>0.166667</td>\n",
       "      <td>0.25</td>\n",
       "      <td>0.333333</td>\n",
       "      <td>0.416667</td>\n",
       "      <td>0.5</td>\n",
       "      <td>0.583333</td>\n",
       "      <td>0.666667</td>\n",
       "      <td>0.75</td>\n",
       "      <td>0.833333</td>\n",
       "      <td>0.916667</td>\n",
       "      <td>1.0</td>\n",
       "    </tr>\n",
       "  </tbody>\n",
       "</table>\n",
       "</div>"
      ],
      "text/plain": [
       "         20    15        30        13   27        42        39    22  \\\n",
       "0  0.166667  0.25  0.333333  0.416667  0.5  0.583333  0.666667  0.75   \n",
       "\n",
       "         34        33   16  \n",
       "0  0.833333  0.916667  1.0  "
      ]
     },
     "execution_count": 41,
     "metadata": {},
     "output_type": "execute_result"
    }
   ],
   "source": [
    "def relFrec_acum(data):\n",
    "    datos = pd.Series(relFrec(data))\n",
    "    return datos.cumsum()\n",
    " \n",
    "\n",
    "print(\"RELATIVE ACUMULATED FRECUENCY: \")\n",
    "relFrec_acum(s).to_frame().T\n"
   ]
  },
  {
   "cell_type": "code",
   "execution_count": 42,
   "metadata": {},
   "outputs": [
    {
     "name": "stdout",
     "output_type": "stream",
     "text": [
      "54ª QUANTILE:  0    26.7\n",
      "Name: 0.54, dtype: float64\n"
     ]
    }
   ],
   "source": [
    "import numpy as np\n",
    "def quantiles(data, num):\n",
    "    datos = pd.DataFrame(np.array(data))\n",
    "    return datos.quantile(num)\n",
    "\n",
    "print(\"54ª QUANTILE: \",quantiles(s, .54))"
   ]
  },
  {
   "cell_type": "code",
   "execution_count": 43,
   "metadata": {},
   "outputs": [
    {
     "data": {
      "text/plain": [
       "27.527259217001607"
      ]
     },
     "execution_count": 43,
     "metadata": {},
     "output_type": "execute_result"
    }
   ],
   "source": [
    "def rootMeanSqr(data):\n",
    "    for i in range(len(data)):\n",
    "        data[i] = data[i]**2\n",
    "    return(stats.mean(data)**(1/2))\n",
    "rootMeanSqr(s)"
   ]
  },
  {
   "cell_type": "code",
   "execution_count": 45,
   "metadata": {},
   "outputs": [
    {
     "data": {
      "text/plain": [
       "1606593964042.3723"
      ]
     },
     "execution_count": 45,
     "metadata": {},
     "output_type": "execute_result"
    }
   ],
   "source": [
    "def rootMeanSqrAn (data, media):\n",
    "    res = 0\n",
    "    for i in range(len(data)):\n",
    "        anomaly =  data[i]- media + res\n",
    "        res = anomaly\n",
    "    return ((res**2)**(1/2))/len(data)\n",
    "rootMeanSqrAn(s, rootMeanSqr(s) )\n",
    "    \n",
    "    "
   ]
  },
  {
   "cell_type": "code",
   "execution_count": 2,
   "metadata": {},
   "outputs": [
    {
     "name": "stdout",
     "output_type": "stream",
     "text": [
      "Requirement already satisfied: pyreadstat in c:\\programdata\\anaconda3\\lib\\site-packages (0.2.9)\n"
     ]
    }
   ],
   "source": [
    "# Command necessary for Jupyter to install the library\n",
    "!pip install pyreadstat\n"
   ]
  },
  {
   "cell_type": "code",
   "execution_count": 104,
   "metadata": {},
   "outputs": [
    {
     "name": "stdout",
     "output_type": "stream",
     "text": [
      "      mpg  cylinders  displace  horsepower  accel  year  weight  origin  \\\n",
      "0    36.1        4.0      98.0        66.0   14.4  78.0  1800.0     1.0   \n",
      "1    19.9        8.0     260.0       110.0   15.5  78.0  3365.0     1.0   \n",
      "2    19.4        8.0     318.0       140.0   13.2  78.0  3735.0     1.0   \n",
      "3    20.2        8.0     302.0       139.0   12.8  78.0  3570.0     1.0   \n",
      "4    19.2        6.0     231.0       105.0   19.2  78.0  3535.0     1.0   \n",
      "5    20.5        6.0     200.0        95.0   18.2  78.0  3155.0     1.0   \n",
      "6    20.2        6.0     200.0        85.0   15.8  78.0  2965.0     1.0   \n",
      "7    25.1        4.0     140.0        88.0   15.4  78.0  2720.0     1.0   \n",
      "8    20.5        6.0     225.0       100.0   17.2  78.0  3430.0     1.0   \n",
      "9    19.4        6.0     232.0        90.0   17.2  78.0  3210.0     1.0   \n",
      "10   20.6        6.0     231.0       105.0   15.8  78.0  3380.0     1.0   \n",
      "11   20.8        6.0     200.0        85.0   16.7  78.0  3070.0     1.0   \n",
      "12   18.6        6.0     225.0       110.0   18.7  78.0  3620.0     1.0   \n",
      "13   18.1        6.0     258.0       120.0   15.1  78.0  3410.0     1.0   \n",
      "14   19.2        8.0     305.0       145.0   13.2  78.0  3425.0     1.0   \n",
      "15   17.7        6.0     231.0       165.0   13.4  78.0  3445.0     1.0   \n",
      "16   18.1        8.0     302.0       139.0   11.2  78.0  3205.0     1.0   \n",
      "17   17.5        8.0     318.0       140.0   13.7  78.0  4080.0     1.0   \n",
      "18   30.0        4.0      98.0        68.0   16.5  78.0  2155.0     1.0   \n",
      "19   30.9        4.0     105.0        75.0   14.5  78.0  2230.0     1.0   \n",
      "20   23.2        4.0     156.0       105.0   16.7  78.0  2745.0     1.0   \n",
      "21   23.8        4.0     151.0        85.0   17.6  78.0  2855.0     1.0   \n",
      "22   21.5        6.0     231.0       115.0   15.4  79.0  3245.0     1.0   \n",
      "23   19.8        6.0     200.0        85.0   18.2  79.0  2990.0     1.0   \n",
      "24   22.3        4.0     140.0        88.0   17.3  79.0  2890.0     1.0   \n",
      "25   20.2        6.0     232.0        90.0   18.2  79.0  3265.0     1.0   \n",
      "26   20.6        6.0     225.0       110.0   16.6  79.0  3360.0     1.0   \n",
      "27   17.0        8.0     305.0       130.0   15.4  79.0  3840.0     1.0   \n",
      "28   17.6        8.0     302.0       129.0   13.4  79.0  3725.0     1.0   \n",
      "29   16.5        8.0     351.0       138.0   13.2  79.0  3955.0     1.0   \n",
      "..    ...        ...       ...         ...    ...   ...     ...     ...   \n",
      "125  37.0        4.0     119.0        92.0   15.0  80.0  2434.0     3.0   \n",
      "126  32.2        4.0     108.0        75.0   15.2  80.0  2265.0     3.0   \n",
      "127  46.6        4.0      86.0        65.0   17.9  80.0  2110.0     3.0   \n",
      "128  40.8        4.0      85.0        65.0   19.2  80.0  2110.0     3.0   \n",
      "129  44.6        4.0      91.0        67.0   13.8  80.0  1850.0     3.0   \n",
      "130  33.8        4.0      97.0        67.0   18.0  80.0  2145.0     3.0   \n",
      "131  32.7        6.0     168.0       132.0   11.4  80.0  2910.0     3.0   \n",
      "132  23.7        3.0      70.0       100.0   12.5  80.0  2420.0     3.0   \n",
      "133  32.4        4.0     107.0        72.0   17.0  80.0  2290.0     3.0   \n",
      "134  39.1        4.0      79.0        58.0   16.9  81.0  1755.0     3.0   \n",
      "135  35.1        4.0      81.0        60.0   16.1  81.0  1760.0     3.0   \n",
      "136  32.3        4.0      97.0        67.0   17.8  81.0  2065.0     3.0   \n",
      "137  37.0        4.0      85.0        65.0   19.4  81.0  1975.0     3.0   \n",
      "138  37.7        4.0      89.0        62.0   17.3  81.0  2050.0     3.0   \n",
      "139  34.1        4.0      91.0        68.0   16.0  81.0  1985.0     3.0   \n",
      "140  33.7        4.0     107.0        75.0   14.4  81.0  2210.0     3.0   \n",
      "141  32.4        4.0     108.0        75.0   16.8  81.0  2350.0     3.0   \n",
      "142  32.9        4.0     119.0       100.0   14.8  81.0  2615.0     3.0   \n",
      "143  31.6        4.0     120.0        74.0   18.3  81.0  2635.0     3.0   \n",
      "144  25.4        6.0     168.0       116.0   12.6  81.0  2900.0     3.0   \n",
      "145  24.2        6.0     146.0       120.0   13.8  81.0  2930.0     3.0   \n",
      "146  37.0        4.0      91.0        68.0   18.2  82.0  2025.0     3.0   \n",
      "147  31.0        4.0      91.0        68.0   17.6  82.0  1970.0     3.0   \n",
      "148  36.0        4.0     120.0        88.0   14.5  82.0  2160.0     3.0   \n",
      "149  36.0        4.0     107.0        75.0   14.5  82.0  2205.0     3.0   \n",
      "150  34.0        4.0     108.0        70.0   16.9  82.0  2245.0     3.0   \n",
      "151  38.0        4.0      91.0        67.0   15.0  82.0  1965.0     3.0   \n",
      "152  32.0        4.0      91.0        67.0   15.7  82.0  1965.0     3.0   \n",
      "153  38.0        4.0      91.0        67.0   16.2  82.0  1995.0     3.0   \n",
      "154  32.0        4.0     144.0        96.0   13.9  82.0  2665.0     3.0   \n",
      "\n",
      "           make       model   price carmakers     X    Y  a1.2  mpg_agrupada  \\\n",
      "0          Ford      Fiesta  1900.0    Europe  36.1  4.0   7.0           7.0   \n",
      "1    Oldsmobile     Cutlass  3300.0            19.9  8.0   3.0           3.0   \n",
      "2         Dodge    Diplomat  3125.0            19.4  8.0   3.0           3.0   \n",
      "3       Mercury     Monarch  2850.0            20.2  8.0   3.0           3.0   \n",
      "4       Pontiac     Phoenix  2800.0            19.2  6.0   3.0           3.0   \n",
      "5     Chevrolet      Malibu  3275.0            20.5  6.0   3.0           3.0   \n",
      "6          Ford  Fairmont A  2375.0            20.2  6.0   3.0           3.0   \n",
      "7          Ford  Fairmont M  2275.0            25.1  4.0   4.0           4.0   \n",
      "8      Plymouth      Volare  2700.0            20.5  6.0   3.0           3.0   \n",
      "9           AMC     Concord  2300.0            19.4  6.0   3.0           3.0   \n",
      "10        Buick     Century  3300.0            20.6  6.0   3.0           3.0   \n",
      "11      Mercury      Zephyr  2425.0            20.8  6.0   3.0           3.0   \n",
      "12        Dodge       Aspen  2700.0            18.6  6.0   2.0           2.0   \n",
      "13          AMC  Concord D1  2425.0            18.1  6.0   2.0           2.0   \n",
      "14    Chevrolet  MonteCarlo  3900.0            19.2  8.0   3.0           3.0   \n",
      "15        Buick  RegalTurbo  4400.0            17.7  6.0   2.0           2.0   \n",
      "16         Ford      Futura  2525.0            18.1  8.0   2.0           2.0   \n",
      "17        Dodge   Magnum XE  3000.0            17.5  8.0   2.0           2.0   \n",
      "18    Chevrolet    Chevette  2100.0            30.0  4.0   6.0           6.0   \n",
      "19        Dodge        Omni  2250.0            30.9  4.0   6.0           6.0   \n",
      "20     Plymouth     Sapporo  3200.0            23.2  4.0   4.0           4.0   \n",
      "21   Oldsmobile    Starfire  2400.0            23.8  4.0   4.0           4.0   \n",
      "22      Pontiac   Lemans V6  3925.0            21.5  6.0   3.0           3.0   \n",
      "23      Mercury    Zephyr 6  3200.0            19.8  6.0   3.0           3.0   \n",
      "24         Ford  Fairmont 4  2975.0            22.3  4.0   3.0           3.0   \n",
      "25          AMC  ConcordDL6  3150.0            20.2  6.0   3.0           3.0   \n",
      "26        Dodge     Aspen 6  3325.0            20.6  6.0   3.0           3.0   \n",
      "27    Chevrolet  Caprice Cl  4650.0            17.0  8.0   2.0           2.0   \n",
      "28         Ford  LTD Landau  4850.0            17.6  8.0   2.0           2.0   \n",
      "29      Mercury  GrandMarqs  5725.0            16.5  8.0   2.0           2.0   \n",
      "..          ...         ...     ...       ...   ...  ...   ...           ...   \n",
      "125      Datsun   510 Hatch  4050.0            37.0  4.0   8.0           8.0   \n",
      "126      Toyota     Corolla  3975.0            32.2  4.0   6.0           6.0   \n",
      "127       Mazda         GLC  3350.0            46.6  4.0  10.0          10.0   \n",
      "128      Datsun         210  3300.0            40.8  4.0   9.0           9.0   \n",
      "129       Honda  Civic1500G  3925.0            44.6  4.0  10.0          10.0   \n",
      "130      Subaru          DL  3625.0            33.8  4.0   7.0           7.0   \n",
      "131      Datsun      280-ZX  8150.0            32.7  6.0   6.0           6.0   \n",
      "132       Mazda     RX-7 GS  7250.0            23.7  3.0   4.0           4.0   \n",
      "133       Honda      Accord  4700.0            32.4  4.0   6.0           6.0   \n",
      "134      Toyota     Starlet  4400.0            39.1  4.0   8.0           8.0   \n",
      "135       Honda   Civic1300  4000.0            35.1  4.0   7.0           7.0   \n",
      "136      Subaru              3950.0            32.3  4.0   6.0           6.0   \n",
      "137      Datsun         210  3775.0            37.0  4.0   8.0           8.0   \n",
      "138      Toyota      Tercel  4475.0            37.7  4.0   8.0           8.0   \n",
      "139       Mazda       GLC 4  3975.0            34.1  4.0   7.0           7.0   \n",
      "140       Honda     Prelude  5550.0            33.7  4.0   7.0           7.0   \n",
      "141      Toyota     Corolla  4650.0            32.4  4.0   6.0           6.0   \n",
      "142      Datsun       200SX  5825.0            32.9  4.0   7.0           7.0   \n",
      "143       Mazda         626  5650.0            31.6  4.0   6.0           6.0   \n",
      "144      Toyota    Cressida  9475.0            25.4  6.0   4.0           4.0   \n",
      "145      Datsun  810 Maxima  8375.0            24.2  6.0   4.0           4.0   \n",
      "146       Mazda  GLC Cust l  4900.0            37.0  4.0   8.0           8.0   \n",
      "147       Mazda  GLC Custom  5100.0            31.0  4.0   6.0           6.0   \n",
      "148      Nissan   Stanza XE  6350.0            36.0  4.0   7.0           7.0   \n",
      "149       Honda      Accord  6500.0            36.0  4.0   7.0           7.0   \n",
      "150      Toyota     Corolla  5425.0            34.0  4.0   7.0           7.0   \n",
      "151       Honda     Civic M  4625.0            38.0  4.0   8.0           8.0   \n",
      "152       Honda     Civic A  4875.0            32.0  4.0   6.0           6.0   \n",
      "153      Datsun      310 GX  5075.0            38.0  4.0   8.0           8.0   \n",
      "154      Toyota   Celica GT  7700.0            32.0  4.0   6.0           6.0   \n",
      "\n",
      "     mpg_agrupado_12  \n",
      "0                9.0  \n",
      "1                3.0  \n",
      "2                3.0  \n",
      "3                3.0  \n",
      "4                3.0  \n",
      "5                3.0  \n",
      "6                3.0  \n",
      "7                5.0  \n",
      "8                3.0  \n",
      "9                3.0  \n",
      "10               3.0  \n",
      "11               3.0  \n",
      "12               3.0  \n",
      "13               2.0  \n",
      "14               3.0  \n",
      "15               2.0  \n",
      "16               2.0  \n",
      "17               2.0  \n",
      "18               7.0  \n",
      "19               7.0  \n",
      "20               4.0  \n",
      "21               4.0  \n",
      "22               4.0  \n",
      "23               3.0  \n",
      "24               4.0  \n",
      "25               3.0  \n",
      "26               3.0  \n",
      "27               2.0  \n",
      "28               2.0  \n",
      "29               2.0  \n",
      "..               ...  \n",
      "125              9.0  \n",
      "126              7.0  \n",
      "127             12.0  \n",
      "128             10.0  \n",
      "129             12.0  \n",
      "130              8.0  \n",
      "131              8.0  \n",
      "132              4.0  \n",
      "133              7.0  \n",
      "134             10.0  \n",
      "135              8.0  \n",
      "136              7.0  \n",
      "137              9.0  \n",
      "138              9.0  \n",
      "139              8.0  \n",
      "140              8.0  \n",
      "141              7.0  \n",
      "142              8.0  \n",
      "143              7.0  \n",
      "144              5.0  \n",
      "145              5.0  \n",
      "146              9.0  \n",
      "147              7.0  \n",
      "148              9.0  \n",
      "149              9.0  \n",
      "150              8.0  \n",
      "151              9.0  \n",
      "152              7.0  \n",
      "153              9.0  \n",
      "154              7.0  \n",
      "\n",
      "[155 rows x 17 columns]\n"
     ]
    }
   ],
   "source": [
    "import pyreadstat\n",
    "\n",
    "def getDataSav():\n",
    "    df, meta = pyreadstat.read_sav(\"cardata.sav\")\n",
    "    return df\n",
    "\n",
    "print(getDataSav())"
   ]
  },
  {
   "cell_type": "markdown",
   "metadata": {},
   "source": [
    "Now, we are going to do the same analysis than before but with the file \"cardata.sav\" were mpg is going to be our data."
   ]
  },
  {
   "cell_type": "code",
   "execution_count": 105,
   "metadata": {},
   "outputs": [
    {
     "name": "stdout",
     "output_type": "stream",
     "text": [
      "[36.1 19.9 19.4 20.2 19.2 20.5 20.2 25.1 20.5 19.4 20.6 20.8 18.6 18.1\n",
      " 19.2 17.7 18.1 17.5 30.  30.9 23.2 23.8 21.5 19.8 22.3 20.2 20.6 17.\n",
      " 17.6 16.5 18.2 16.9 15.5 19.2 18.5 35.7 27.4 23.  23.9 34.2 34.5 28.4\n",
      " 28.8 26.8 33.5 32.1 28.  26.4 24.3 19.1 27.9 23.6 27.2 26.6 25.8 23.5\n",
      " 30.  39.  34.7 34.4 29.9 22.4 26.6 20.2 17.6 28.  27.  34.  31.  29.\n",
      " 27.  24.  23.  38.  36.  25.  38.  26.  22.  36.  27.  27.  32.  28.\n",
      " 31.  43.1 20.3 17.  21.6 16.2 31.5 31.9 25.4 27.2 37.3 41.5 34.3 44.3\n",
      " 43.4 36.4 30.4 40.9 29.8 35.  33.  34.5 28.1 30.7 36.  44.  32.8 39.4\n",
      " 36.1 27.5 27.2 21.1 23.9 29.5 34.1 31.8 38.1 37.2 29.8 31.3 37.  32.2\n",
      " 46.6 40.8 44.6 33.8 32.7 23.7 32.4 39.1 35.1 32.3 37.  37.7 34.1 33.7\n",
      " 32.4 32.9 31.6 25.4 24.2 37.  31.  36.  36.  34.  38.  32.  38.  32. ]\n"
     ]
    }
   ],
   "source": [
    "import numpy as np\n",
    "import pandas \n",
    "df = getDataSav()\n",
    "data = np.array(df.get(\"mpg\").dropna())\n",
    "print(data)"
   ]
  },
  {
   "cell_type": "code",
   "execution_count": 106,
   "metadata": {},
   "outputs": [
    {
     "name": "stdout",
     "output_type": "stream",
     "text": [
      "\n",
      "    Mean: 28\n",
      "    Median: 28\n",
      "    Mode: 36\n",
      "    Range: 31\n",
      "\n"
     ]
    }
   ],
   "source": [
    "import statistics as stats\n",
    "print(\"\"\"\n",
    "    Mean: %d\n",
    "    Median: %d\n",
    "    Mode: %d\n",
    "    Range: %d\n",
    "\"\"\" % (stats.mean(data),stats.median(data),stats.mode(data), max(data)-min(data)))\n",
    "\n"
   ]
  },
  {
   "cell_type": "code",
   "execution_count": 107,
   "metadata": {},
   "outputs": [
    {
     "name": "stdout",
     "output_type": "stream",
     "text": [
      "\n",
      "    Variance: 54\n",
      "    Standar Desviation: 7\n",
      "\n"
     ]
    }
   ],
   "source": [
    "print(\"\"\"\n",
    "    Variance: %d\n",
    "    Standar Desviation: %d\n",
    "\"\"\" % (stats.pvariance(data),stats.pstdev(data)))"
   ]
  },
  {
   "cell_type": "code",
   "execution_count": 109,
   "metadata": {},
   "outputs": [
    {
     "name": "stdout",
     "output_type": "stream",
     "text": [
      "Absolute frecuency group by mpg: \n",
      "    6.0   7.0   3.0   5.0   4.0   8.0   2.0   10.0  9.0   1.0 \n",
      "0    26    26    24    22    17    15    14     5     4     1\n",
      "\n",
      "Absolute acumulative frecuency group by mpg: \n",
      "    6.0   7.0   3.0   5.0   4.0   8.0   2.0   10.0  9.0   1.0 \n",
      "0    26    52    76    98   115   130   144   149   153   154\n"
     ]
    }
   ],
   "source": [
    "import pandas as pd\n",
    "data = data = np.array(df.get(\"mpg_agrupada\").dropna())\n",
    "\n",
    "def absFrec(data):\n",
    "    datos = pd.Series(data)\n",
    "    return (datos.value_counts())\n",
    "\n",
    "def absFrec_acum(data):\n",
    "    datos = pd.Series(absFrec(data))\n",
    "    return datos.cumsum()\n",
    " \n",
    "print(\"Absolute frecuency group by mpg: \\n\", (pd.Series(data)).value_counts().to_frame().T)\n",
    "print(\"\\nAbsolute acumulative frecuency group by mpg: \\n\", ((pd.Series(data)).value_counts()).cumsum().to_frame().T)"
   ]
  },
  {
   "cell_type": "code",
   "execution_count": 111,
   "metadata": {},
   "outputs": [
    {
     "name": "stdout",
     "output_type": "stream",
     "text": [
      "Absolute frecuency group by mpg: \n",
      " 6.0     0.168831\n",
      "7.0     0.168831\n",
      "3.0     0.155844\n",
      "5.0     0.142857\n",
      "4.0     0.110390\n",
      "8.0     0.097403\n",
      "2.0     0.090909\n",
      "10.0    0.032468\n",
      "9.0     0.025974\n",
      "1.0     0.006494\n",
      "dtype: float64\n",
      "\n",
      "Absolute acumulative frecuency group by mpg: \n",
      " 6.0     0.168831\n",
      "7.0     0.337662\n",
      "3.0     0.493506\n",
      "5.0     0.636364\n",
      "4.0     0.746753\n",
      "8.0     0.844156\n",
      "2.0     0.935065\n",
      "10.0    0.967532\n",
      "9.0     0.993506\n",
      "1.0     1.000000\n",
      "dtype: float64\n"
     ]
    }
   ],
   "source": [
    "def relFrec(data):\n",
    "    datos = pd.Series(data)\n",
    "    for i in range(len(data)):\n",
    "        return (absFrec(data)/len(data))\n",
    "        \n",
    "\n",
    "def relFrec_acum(data):\n",
    "    datos = pd.Series(relFrec(data))\n",
    "    return datos.cumsum()\n",
    " \n",
    "\n",
    "print(\"Absolute frecuency group by mpg: \\n\", relFrec(data))\n",
    "print(\"\\nAbsolute acumulative frecuency group by mpg: \\n\", relFrec_acum(data))\n"
   ]
  },
  {
   "cell_type": "code",
   "execution_count": null,
   "metadata": {},
   "outputs": [],
   "source": []
  }
 ],
 "metadata": {
  "kernelspec": {
   "display_name": "Python 3",
   "language": "python",
   "name": "python3"
  },
  "language_info": {
   "codemirror_mode": {
    "name": "ipython",
    "version": 3
   },
   "file_extension": ".py",
   "mimetype": "text/x-python",
   "name": "python",
   "nbconvert_exporter": "python",
   "pygments_lexer": "ipython3",
   "version": "3.7.3"
  }
 },
 "nbformat": 4,
 "nbformat_minor": 4
}
