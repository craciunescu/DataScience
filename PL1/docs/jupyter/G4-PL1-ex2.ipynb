{
 "cells": [
  {
   "cell_type": "markdown",
   "metadata": {},
   "source": [
    "## SECOND EXERCISE\n"
   ]
  },
  {
   "cell_type": "markdown",
   "metadata": {},
   "source": [
    "Now, data is taken for \"animals.csv\", wich is a file generated with the following code:"
   ]
  },
  {
   "cell_type": "code",
   "execution_count": 23,
   "metadata": {},
   "outputs": [
    {
     "name": "stdout",
     "output_type": "stream",
     "text": [
      "Animal Asiatic Black Bear does not have same standard.\n",
      "Animal Dalmatian does not have same standard.\n",
      "Animal Finnish Spitz does not have same standard.\n",
      "Animal Giant Schnauzer does not have same standard.\n",
      "Animal Mongrel does not have same standard.\n",
      "Animal Rattlesnake does not have same standard.\n",
      "Animal White Rhinoceros does not have same standard.\n"
     ]
    },
    {
     "ename": "PermissionError",
     "evalue": "[Errno 13] Permission denied: 'animals.csv'",
     "output_type": "error",
     "traceback": [
      "\u001b[1;31m---------------------------------------------------------------------------\u001b[0m",
      "\u001b[1;31mPermissionError\u001b[0m                           Traceback (most recent call last)",
      "\u001b[1;32m<ipython-input-23-3d2fb0e07070>\u001b[0m in \u001b[0;36m<module>\u001b[1;34m\u001b[0m\n\u001b[0;32m     43\u001b[0m \u001b[1;33m\u001b[0m\u001b[0m\n\u001b[0;32m     44\u001b[0m \u001b[1;31m# Create .CSV file\u001b[0m\u001b[1;33m\u001b[0m\u001b[1;33m\u001b[0m\u001b[1;33m\u001b[0m\u001b[0m\n\u001b[1;32m---> 45\u001b[1;33m \u001b[1;32mwith\u001b[0m \u001b[0mopen\u001b[0m\u001b[1;33m(\u001b[0m\u001b[1;34m\"animals.csv\"\u001b[0m\u001b[1;33m,\u001b[0m \u001b[1;34m\"w\"\u001b[0m\u001b[1;33m,\u001b[0m \u001b[0mnewline\u001b[0m \u001b[1;33m=\u001b[0m \u001b[1;34m\"\"\u001b[0m\u001b[1;33m)\u001b[0m \u001b[1;32mas\u001b[0m \u001b[0mcsvfile\u001b[0m\u001b[1;33m:\u001b[0m\u001b[1;33m\u001b[0m\u001b[1;33m\u001b[0m\u001b[0m\n\u001b[0m\u001b[0;32m     46\u001b[0m     writer = csv.writer(csvfile, delimiter = \",\", quotechar = '\"', quoting =\n\u001b[0;32m     47\u001b[0m     csv.QUOTE_MINIMAL)\n",
      "\u001b[1;31mPermissionError\u001b[0m: [Errno 13] Permission denied: 'animals.csv'"
     ]
    }
   ],
   "source": [
    "# Needed imports.\n",
    "import csv\n",
    "import re\n",
    "import bs4\n",
    "from urllib.request import urlopen as uReq\n",
    "from bs4 import BeautifulSoup as soup\n",
    "\n",
    "# Accessed link.\n",
    "url = \"https://a-z-animals.com/animals\"\n",
    "\n",
    "# Open connection and retrieve contents.\n",
    "uClient  = uReq(url)\n",
    "pageHtml = uClient.read()\n",
    "uClient.close()\n",
    "\n",
    "# Parse the content.\n",
    "pageSoup = soup(pageHtml, \"html.parser\")\n",
    "\n",
    "# Retrieve table rows to parse.\n",
    "names = list(map(lambda l: l.text, pageSoup.findAll(\"b\")))[2:595]\n",
    "\n",
    "# Obtain lifespan of each animal.\n",
    "animals = []\n",
    "\n",
    "for name in names:\n",
    "    try:\n",
    "        # Access page of animal.\n",
    "        uClient = uReq(\"https://a-z-animals.com/animals/\"+name.replace(\" \",\"-\").lower())\n",
    "        pageHtml = uClient.read()\n",
    "        uClient.close()\n",
    "\n",
    "        # Parse the page.\n",
    "        animalSoup = soup(pageHtml, \"html.parser\")\n",
    "\n",
    "        # Obtain info.\n",
    "        attributes = animalSoup.findAll(\"table\")[1].findAll(\"tr\")\n",
    "        lifespan = list(filter(lambda l: \"Lifespan\" in l.text, attributes))[0].find_all(\"td\")[1].text.split()[0]\n",
    "\n",
    "        animals.append([name, lifespan])\n",
    "\n",
    "    except Exception:\n",
    "        print(\"Animal \" + name + \" does not have same standard.\")\n",
    "\n",
    "# Create .CSV file\n",
    "with open(\"animals.csv\", \"w\", newline = \"\") as csvfile:\n",
    "    writer = csv.writer(csvfile, delimiter = \",\", quotechar = '\"', quoting =\n",
    "    csv.QUOTE_MINIMAL)\n",
    "\n",
    "    for animal in animals:\n",
    "        writer.writerow(animal)"
   ]
  },
  {
   "cell_type": "code",
   "execution_count": 24,
   "metadata": {},
   "outputs": [
    {
     "name": "stdout",
     "output_type": "stream",
     "text": [
      "[['Aardvark', '23'], ['Abyssinian', '15'], ['Adelie Penguin', '10'], ['Affenpinscher', '12'], ['Afghan Hound', '14'], ['African Bush Elephant', '60'], ['African Civet', '15'], ['African Clawed Frog', '8'], ['African Forest Elephant', '60'], ['African Palm Civet', '15'], ['African Penguin', '10'], ['African Tree Toad', '3'], ['African Wild Dog', '10'], ['Ainu Dog', '12'], ['Airedale Terrier ', '12'], ['Akbash', '11'], ['Akita', '10'], ['Alaskan Malamute', '14'], ['Albatross', '12'], ['Aldabra Giant Tortoise', '80'], ['Alligator', '30'], ['Alpine Dachsbracke', '12'], ['American Bulldog', '14'], ['American Cocker Spaniel', '15'], ['American Coonhound', '12'], ['American Eskimo Dog', '15'], ['American Foxhound', '11'], ['American Pit Bull Terrier', '12'], ['American Staffordshire Terrier', '12'], ['American Water Spaniel', '12'], ['Anatolian Shepherd Dog', '13'], ['Angelfish', '8'], ['Ant', '3'], ['Anteater', '9'], ['Antelope', '10'], ['Appenzeller Dog', '12'], ['Arctic Fox', '7'], ['Arctic Hare', '3'], ['Arctic Wolf', '7'], ['Armadillo', '4'], ['Asian Elephant', '55'], ['Asian Giant Hornet', '3'], ['Asian Palm Civet', '15'], ['Australian Cattle Dog', '15'], ['Australian Kelpie Dog', '14'], ['Australian Mist', '14'], ['Australian Shepherd', '14'], ['Australian Terrier', '14'], ['Avocet', '10'], ['Axolotl', '10'], ['Aye Aye ', '10'], ['Baboon', '15'], ['Bactrian Camel', '35'], ['Badger', '4'], ['Balinese', '15'], ['Banded Palm Civet', '15'], ['Bandicoot', '3'], ['Barb', '3'], ['Barn Owl', '5'], ['Barnacle', '8'], ['Barracuda', '10'], ['Basenji Dog', '12'], ['Basking Shark', '20'], ['Basset Hound', '12'], ['Bat', '10'], ['Bavarian Mountain Hound', '14'], ['Beagle', '15'], ['Bear', '15'], ['Bearded Collie', '14'], ['Bearded Dragon', '6'], ['Beaver', '15'], ['Bedlington Terrier', '16'], ['Beetle', '3'], ['Bengal Tiger', '18'], ['Bernese Mountain Dog', '8'], ['Bichon Frise', '15'], ['Binturong', '10'], ['Bird', '1'], ['Birds Of Paradise', '5'], ['Birman', '20'], ['Bison', '15'], ['Black Bear', '15'], ['Black Rhinoceros', '45'], ['Black Russian Terrier', '11'], ['Black Widow Spider', '3'], ['Bloodhound', '12'], ['Blue Lacy Dog', '16'], ['Blue Whale', '30'], ['Bluetick Coonhound', '12'], ['Bobcat', '12'], ['Bolognese Dog', '14'], ['Bombay', '13'], ['Bongo', '10'], ['Bonobo', '30'], ['Booby', '12'], ['Border Collie', '20'], ['Border Terrier', '15'], ['Bornean Orang-utan', '30'], ['Borneo Elephant', '55'], ['Boston Terrier', '15'], ['Bottle Nosed Dolphin', '20'], ['Boxer Dog', '11'], ['Boykin Spaniel', '16'], ['Brazilian Terrier', '14'], ['Brown Bear', '20'], ['Budgerigar', '3'], ['Buffalo', '15'], ['Bull Mastiff', '10'], ['Bull Shark', '16'], ['Bull Terrier', '15'], ['Bulldog', '14'], ['Bullfrog', '6'], ['Bumble Bee', '1'], ['Burmese', '12'], ['Burrowing Frog', '10'], ['Butterfly', '40'], ['Butterfly Fish', '6'], ['Caiman', '20'], ['Caiman Lizard', '10'], ['Cairn Terrier', '14'], ['Camel', '40'], ['Canaan Dog', '15'], ['Capybara', '8'], ['Caracal', '12'], ['Carolina Dog', '19'], ['Cassowary', '40'], ['Cat', '15'], ['Caterpillar', '3'], ['Catfish', '8'], ['Cavalier King Charles Spaniel', '15'], ['Centipede', '5'], ['Cesky Fousek', '15'], ['Chameleon', '4'], ['Chamois', '18'], ['Cheetah', '10'], ['Chesapeake Bay Retriever', '13'], ['Chicken', '2'], ['Chihuahua', '18'], ['Chimpanzee', '50'], ['Chinchilla', '10'], ['Chinese Crested Dog', '13'], ['Chinook', '14'], ['Chinstrap Penguin', '15'], ['Chipmunk', '4'], ['Chow Chow', '10'], ['Cichlid', '5'], ['Clouded Leopard', '11'], ['Clown Fish', '4'], ['Clumber Spaniel', '15'], ['Coati', '8'], ['Cockroach', '18'], ['Collared Peccary', '10'], ['Collie', '13'], ['Common Buzzard', '12'], ['Common Frog', '5'], ['Common Loon', '15'], ['Common Toad', '2'], ['Coral', '15'], ['Cottontop Tamarin', '8'], ['Cougar', '10'], ['Cow', '12'], ['Coyote', '10'], ['Crab', '1'], ['Crab-Eating Macaque', '15'], ['Crane', '15'], ['Crested Penguin', '15'], ['Crocodile', '20'], ['Cross River Gorilla', '35'], ['Curly Coated Retriever', '14'], ['Cuscus', '8'], ['Cuttlefish', '1'], ['Dachshund', '15'], [\"Darwin's Frog\", '10'], ['Deer', '10'], ['Desert Tortoise', '25'], ['Deutsche Bracke', '12'], ['Dhole', '10'], ['Dingo', '7'], ['Discus', '8'], ['Doberman Pinscher', '12'], ['Dodo', '10'], ['Dog', '15'], ['Dogo Argentino', '13'], ['Dogue De Bordeaux', '12'], ['Dolphin', '20'], ['Donkey', '15'], ['Dormouse', '2'], ['Dragonfly', '6'], ['Drever', '14'], ['Duck', '4'], ['Dugong', '50'], ['Dunker', '14'], ['Dusky Dolphin', '18'], ['Dwarf Crocodile', '40'], ['Eagle', '15'], ['Earwig ', '1'], ['Eastern Gorilla', '35'], ['Eastern Lowland Gorilla', '35'], ['Echidna', '15'], ['Edible Frog', '5'], ['Egyptian Mau', '14'], ['Electric Eel', '15'], ['Elephant', '55'], ['Elephant Seal', '18'], ['Elephant Shrew', '2'], ['Emperor Penguin', '15'], ['Emperor Tamarin', '8'], ['Emu', '12'], ['English Cocker Spaniel', '15'], ['English Shepherd', '16'], ['English Springer Spaniel', '12'], ['Entlebucher Mountain Dog', '12'], ['Epagneul Pont Audemer', '13'], ['Eskimo Dog', '14'], ['Estrela Mountain Dog', '16'], ['Falcon', '12'], ['Fennec Fox', '10'], ['Ferret', '7'], ['Field Spaniel', '14'], ['Fin Whale', '50'], ['Fire-Bellied Toad', '10'], ['Fish', '1'], ['Fishing Cat', '10'], ['Flamingo', '15'], ['Flat Coat Retriever', '12'], ['Flounder', '3'], ['Fly', '25'], ['Flying Squirrel', '5'], ['Fossa', '15'], ['Fox', '3'], ['Fox Terrier', '14'], ['French Bulldog', '12'], ['Frigatebird', '15'], ['Frilled Lizard', '10'], ['Frog', '1'], ['Fur Seal', '12'], ['Galapagos Penguin', '15'], ['Galapagos Tortoise', '100'], ['Gar', '10'], ['Gecko', '2'], ['Gentoo Penguin', '15'], ['Geoffroys Tamarin', '8'], ['Gerbil', '3'], ['German Pinscher', '15'], ['German Shepherd', '12'], ['Gharial', '30'], ['Giant African Land Snail', '3'], ['Giant Clam', '20'], ['Giant Panda Bear', '20'], ['Gibbon', '25'], ['Gila Monster', '20'], ['Giraffe', '20'], ['Glass Lizard', '10'], ['Glow Worm', '5'], ['Goat', '10'], ['Golden Lion Tamarin', '8'], ['Golden Oriole', '8'], ['Golden Retriever', '12'], ['Goose', '12'], ['Gopher', '3'], ['Gorilla', '35'], ['Grasshopper', '1'], ['Great Dane', '7'], ['Great White Shark', '30'], ['Greater Swiss Mountain Dog', '12'], ['Green Bee-Eater', '12'], ['Greenland Dog', '12'], ['Grey Mouse Lemur', '3'], ['Grey Reef Shark', '22'], ['Grey Seal', '18'], ['Greyhound', '11'], ['Grizzly Bear', '15'], ['Grouse', '1'], ['Guinea Fowl', '10'], ['Guinea Pig', '3'], ['Guppy', '2'], ['Hammerhead Shark', '20'], ['Hamster', '2'], ['Hare', '2'], ['Harrier', '16'], ['Havanese', '15'], ['Hedgehog', '3'], ['Hercules Beetle', '3'], ['Hermit Crab', '1'], ['Heron', '15'], ['Highland Cattle', '15'], ['Himalayan', '14'], ['Hippopotamus', '30'], ['Honey Bee', '6'], ['Horn Shark', '12'], ['Horned Frog', '5'], ['Horse', '25'], ['Horseshoe Crab', '20'], ['Howler Monkey', '15'], ['Human', '60'], ['Humboldt Penguin', '15'], ['Hummingbird', '3'], ['Humpback Whale', '50'], ['Hyena', '20'], ['Ibis', '8'], ['Ibizan Hound', '14'], ['Iguana', '15'], ['Impala', '12'], ['Indian Elephant', '55'], ['Indian Palm Squirrel', ''], ['Indian Rhinoceros', '45'], ['Indian Star Tortoise', '30'], ['Indochinese Tiger', '18'], ['Indri', '15'], ['Insect', '2'], ['Irish Setter', '16'], ['Irish WolfHound', '9'], ['Jack Russel', '16'], ['Jackal', '8'], ['Jaguar', '12'], ['Japanese Chin', '14'], ['Japanese Macaque', '25'], ['Javan Rhinoceros', '30'], ['Javanese', '14'], ['Jellyfish', '1'], ['Kakapo', '50'], ['Kangaroo', '4'], ['Keel Billed Toucan', '15'], ['Killer Whale', '50'], ['King Crab', '15'], ['King Penguin', '15'], ['Kingfisher', '6'], ['Kiwi', '8'], ['Koala', '15'], ['Komodo Dragon', '25'], ['Kudu', '8'], ['Labradoodle', '12'], ['Labrador Retriever', '15'], ['Ladybird', '2'], ['Leaf-Tailed Gecko', '2'], ['Lemming', '1'], ['Lemur', '10'], ['Leopard', '10'], ['Leopard Cat', '10'], ['Leopard Seal', '20'], ['Leopard Tortoise', '50'], ['Liger', '18'], ['Lion', '8'], ['Lionfish', '10'], ['Little Penguin', '10'], ['Lizard', '1'], ['Llama', '15'], ['Lobster', '20'], ['Long-Eared Owl', '40'], ['Lynx', '12'], ['Macaroni Penguin', '15'], ['Macaw', '50'], ['Magellanic Penguin', '15'], ['Magpie', '8'], ['Maine Coon', '12'], ['Malayan Civet', '15'], ['Malayan Tiger', '18'], ['Maltese', '17'], ['Manatee', '50'], ['Mandrill', '20'], ['Manta Ray', '15'], ['Marine Toad', '10'], ['Markhor', '10'], ['Marsh Frog', '5'], ['Masked Palm Civet', '15'], ['Mastiff', '12'], ['Mayfly', '1'], ['Meerkat', '10'], ['Millipede', '7'], ['Minke Whale', '30'], ['Mole', '3'], ['Molly', '3'], ['Mongoose', '10'], ['Monitor Lizard', '8'], ['Monkey', '10'], ['Monte Iberia Eleuth', '1'], ['Moorhen', '1'], ['Moose', '10'], ['Moray Eel', '10'], ['Moth', '40'], ['Mountain Gorilla', '35'], ['Mountain Lion', '10'], ['Mouse', '2'], ['Mule', '15'], ['Neanderthal', '35'], ['Neapolitan Mastiff', '10'], ['Newfoundland', '10'], ['Newt', '2'], ['Nightingale', '1'], ['Norfolk Terrier', '15'], ['Norwegian Forest', '15'], ['Numbat', '4'], ['Nurse Shark', '20'], ['Ocelot', '8'], ['Octopus', '2'], ['Okapi', '20'], ['Old English Sheepdog', '12'], ['Olm', '10'], ['Opossum', '2'], ['Orang-utan', '30'], ['Ostrich', '50'], ['Otter', '15'], ['Oyster', '1'], ['Pademelon', '4'], ['Panther', '12'], ['Parrot', '40'], ['Patas Monkey', '12'], ['Peacock', '12'], ['Pekingese', '13'], ['Pelican', '16'], ['Penguin', '20'], ['Persian', '19'], ['Pheasant', '7'], ['Pied Tamarin', '8'], ['Pig', '8'], ['Pika', '3'], ['Pike', '12'], ['Pink Fairy Armadillo', '5'], ['Piranha', '20'], ['Platypus', '9'], ['Pointer', '13'], ['Poison Dart Frog', '2'], ['Polar Bear', '20'], ['Pond Skater', '1'], ['Poodle', '16'], ['Pool Frog', '1'], ['Porcupine', '8'], ['Possum', '5'], ['Prawn', '2'], ['Proboscis Monkey', '15'], ['Puffer Fish', '4'], ['Puffin', '15'], ['Pug', '14'], ['Puma', '10'], ['Purple Emperor', '1'], ['Puss Moth', '3'], ['Pygmy Hippopotamus', '30'], ['Pygmy Marmoset', '8'], ['Quail', '3'], ['Quetzal', '20'], ['Quokka', '5'], ['Quoll', '3'], ['Rabbit', '4'], ['Raccoon', '12'], ['Raccoon Dog', '3'], ['Radiated Tortoise', '30'], ['Ragdoll', '14'], ['Rat', '2'], ['Red Knee Tarantula', '20'], ['Red Panda', '8'], ['Red Wolf', '10'], ['Red-handed Tamarin', '8'], ['Reindeer', '12'], ['Rhinoceros', '30'], ['River Dolphin', '12'], ['River Turtle', '10'], ['Robin', '1'], ['Rock Hyrax', '5'], ['Rockhopper Penguin', '15'], ['Roseate Spoonbill', '10'], ['Rottweiler', '9'], ['Royal Penguin', '15'], ['Russian Blue', '14'], ['Sabre-Toothed Tiger', '20'], ['Saint Bernard', '10'], ['Salamander', '5'], ['Sand Lizard', '5'], ['Saola', '8'], ['Scorpion', '4'], ['Scorpion Fish', '10'], ['Sea Dragon', '2'], ['Sea Lion', '15'], ['Sea Otter', '12'], ['Sea Slug', '1'], ['Sea Squirt', '7'], ['Sea Turtle', '60'], ['Sea Urchin', '15'], ['Seahorse', '2'], ['Seal', '15'], ['Serval', '10'], ['Sheep', '5'], ['Shih Tzu', '15'], ['Shrimp', '1'], ['Siamese', '12'], ['Siamese Fighting Fish', '1'], ['Siberian', '15'], ['Siberian Husky', '14'], ['Siberian Tiger', '18'], ['Silver Dollar', '2'], ['Skunk', '5'], ['Sloth', '25'], ['Slow Worm', '10'], ['Snail', '1'], ['Snake', '30'], ['Snapping Turtle', '20'], ['Snowshoe', '14'], ['Snowy Owl', '10'], ['Somali', '19'], ['South China Tiger', '18'], ['Spadefoot Toad', '4'], ['Sparrow', '4'], ['Spectacled Bear', '20'], ['Sperm Whale', '50'], ['Spider Monkey', '15'], ['Spiny Dogfish', '25'], ['Sponge', '15'], ['Squid', '5'], ['Squirrel', '2'], ['Squirrel Monkey', '15'], ['Sri Lankan Elephant', '55'], ['Staffordshire Bull Terrier', '14'], ['Stag Beetle', '3'], ['Starfish', '3'], ['Stellers Sea Cow', '50'], ['Stick Insect', '1'], ['Stingray', '15'], ['Stoat', '4'], ['Striped Rocket Frog', '10'], ['Sumatran Elephant', '55'], ['Sumatran Orang-utan', '30'], ['Sumatran Rhinoceros', '30'], ['Sumatran Tiger', '18'], ['Sun Bear', '15'], ['Swan', '8'], ['Tang', '8'], ['Tapanuli Orang-utan', '30'], ['Tapir', '20'], ['Tarsier', '12'], ['Tasmanian Devil', '5'], ['Tawny Owl', '4'], ['Termite', '2'], ['Tetra', '2'], ['Thorny Devil', '12'], ['Tibetan Mastiff', '15'], ['Tiffany', '15'], ['Tiger', '18'], ['Tiger Salamander', '10'], ['Tiger Shark', '30'], ['Tortoise', '30'], ['Toucan', '12'], ['Tree Frog', '2'], ['Tropicbird', '10'], ['Tuatara', '50'], ['Turkey', '1'], ['Turkish Angora', '14'], ['Uakari', '16'], ['Uguisu', '2'], ['Umbrellabird', '12'], ['Vampire Bat', '8'], ['Vervet Monkey', '12'], ['Vulture', '20'], ['Wallaby', '12'], ['Walrus', '40'], ['Warthog', '12'], ['Wasp', '22'], ['Water Buffalo', '15'], ['Water Dragon', '10'], ['Water Vole', '0.5'], ['Weasel', '1'], ['Welsh Corgi', '13'], ['West Highland Terrier', '15'], ['Western Gorilla', '35'], ['Western Lowland Gorilla', '35'], ['Whale Shark', '60'], ['Whippet', '15'], ['White Faced Capuchin', '16'], ['White Tiger', '10'], ['Wild Boar', '15'], ['Wildebeest', '15'], ['Wolf', '10'], ['Wolverine', '10'], ['Wombat', '20'], ['Woodlouse', '2'], ['Woodpecker', '6'], ['Woolly Mammoth', '60'], ['Woolly Monkey', '7'], ['Wrasse', '3'], ['X-Ray Tetra', '2'], ['Yak', '15'], ['Yellow-Eyed Penguin', '10'], ['Yorkshire Terrier', '15'], ['Zebra', '20'], ['Zebra Shark', '15'], ['Zebu', '12'], ['Zonkey', '15'], ['Zorse', '15']]\n"
     ]
    }
   ],
   "source": [
    "def ReadCSV(FileName):\n",
    "    with open(FileName, newline = '') as File:\n",
    "        reader = csv.reader(File)\n",
    "        data = []\n",
    "        for row in reader:\n",
    "            data.append(row)\n",
    "        return(data)\n",
    "print(ReadCSV('animals.csv'))"
   ]
  },
  {
   "cell_type": "code",
   "execution_count": 40,
   "metadata": {},
   "outputs": [
    {
     "name": "stdout",
     "output_type": "stream",
     "text": [
      "[15, 10, 12, 14, 60, 15, 8, 60, 15, 10, 3, 10, 12, 12, 11, 10, 14, 12, 80, 30, 12, 14, 15, 12, 15, 11, 12, 12, 12, 13, 8, 3, 9, 10, 12, 7, 3, 7, 4, 55, 3, 15, 15, 14, 14, 14, 14, 10, 10, 10, 15, 35, 4, 15, 15, 3, 3, 5, 8, 10, 12, 20, 12, 10, 14, 15, 15, 14, 6, 15, 16, 3, 18, 8, 15, 10, 1, 5, 20, 15, 15, 45, 11, 3, 12, 16, 30, 12, 12, 14, 13, 10, 30, 12, 20, 15, 30, 55, 15, 20, 11, 16, 14, 20, 3, 15, 10, 16, 15, 14, 6, 1, 12, 10, 40, 6, 20, 10, 14, 40, 15, 8, 12, 19, 40, 15, 3, 8, 15, 5, 15, 4, 18, 10, 13, 2, 18, 50, 10, 13, 14, 15, 4, 10, 5, 11, 4, 15, 8, 18, 10, 13, 12, 5, 15, 2, 15, 8, 10, 12, 10, 1, 15, 15, 15, 20, 35, 14, 8, 1, 15, 10, 10, 25, 12, 10, 7, 8, 12, 10, 15, 13, 12, 20, 15, 2, 6, 14, 4, 50, 14, 18, 40, 15, 1, 35, 35, 15, 5, 14, 15, 55, 18, 2, 15, 8, 12, 15, 16, 12, 12, 13, 14, 16, 12, 10, 7, 14, 50, 10, 1, 10, 15, 12, 3, 25, 5, 15, 3, 14, 12, 15, 10, 1, 12, 15, 100, 10, 2, 15, 8, 3, 15, 12, 30, 3, 20, 20, 25, 20, 20, 10, 5, 10, 8, 8, 12, 12, 3, 35, 1, 7, 30, 12, 12, 12, 3, 22, 18, 11, 15, 1, 10, 3, 2, 20, 2, 2, 16, 15, 3, 3, 1, 15, 15, 14, 30, 6, 12, 5, 25, 20, 15, 60, 15, 3, 50, 20, 8, 14, 15, 12, 55, 5, 45, 30, 18, 15, 2, 16, 9, 16, 8, 12, 14, 25, 30, 14, 1, 50, 4, 15, 50, 15, 15, 6, 8, 15, 25, 8, 12, 15, 2, 2, 1, 10, 10, 10, 20, 50, 18, 8, 10, 10, 1, 15, 20, 40, 12, 15, 50, 15, 8, 12, 15, 18, 17, 50, 20, 15, 10, 10, 5, 15, 12, 1, 10, 7, 30, 3, 3, 10, 8, 10, 1, 1, 10, 10, 40, 35, 10, 2, 15, 35, 10, 10, 2, 1, 15, 15, 4, 20, 8, 2, 20, 12, 10, 2, 30, 50, 15, 1, 4, 12, 40, 12, 12, 13, 16, 20, 19, 7, 8, 8, 3, 12, 5, 20, 9, 13, 2, 20, 1, 16, 1, 8, 5, 2, 15, 4, 15, 14, 10, 1, 3, 30, 8, 3, 20, 5, 3, 4, 12, 3, 30, 14, 2, 20, 8, 10, 8, 12, 30, 12, 10, 1, 5, 15, 10, 9, 15, 14, 20, 10, 5, 5, 8, 4, 10, 2, 15, 12, 1, 7, 60, 15, 2, 15, 10, 5, 15, 1, 12, 1, 15, 14, 18, 2, 5, 25, 10, 1, 30, 20, 14, 10, 19, 18, 4, 4, 20, 50, 15, 25, 15, 5, 2, 15, 55, 14, 3, 3, 50, 1, 15, 4, 10, 55, 30, 30, 18, 15, 8, 8, 30, 20, 12, 5, 4, 2, 2, 12, 15, 15, 18, 10, 30, 30, 12, 2, 10, 50, 1, 14, 16, 2, 12, 8, 12, 20, 12, 40, 12, 22, 15, 10, 1, 1, 13, 15, 35, 35, 60, 15, 16, 10, 15, 15, 10, 10, 20, 2, 6, 60, 7, 3, 2, 15, 10, 15, 20, 15, 12, 15, 15]\n"
     ]
    },
    {
     "data": {
      "text/plain": [
       "list"
      ]
     },
     "execution_count": 40,
     "metadata": {},
     "output_type": "execute_result"
    }
   ],
   "source": [
    "import csv\n",
    "def GetData(data):\n",
    "  \n",
    "    result= []\n",
    "    # We start in 1, just to delete headers\n",
    "    for i in range(1,len(data)):\n",
    "        result.append(int(data[i].pop(1)))\n",
    "        #print(result, \"\\n\")\n",
    "    return(result) \n",
    "lifestan = ReadCSV('animals.csv')\n",
    "\n",
    "\n",
    "    \n",
    "\n",
    "lifestan=GetData(lifestan)\n",
    "print(lifestan)\n",
    "type(lifestan)"
   ]
  },
  {
   "cell_type": "markdown",
   "metadata": {},
   "source": [
    "Now, we can analyze the data:"
   ]
  },
  {
   "cell_type": "code",
   "execution_count": 41,
   "metadata": {},
   "outputs": [
    {
     "name": "stdout",
     "output_type": "stream",
     "text": [
      "\n",
      "    Mean: 14\n",
      "    Median: 12\n",
      "    Mode: 15\n",
      "    Range: 99\n",
      "\n"
     ]
    }
   ],
   "source": [
    "import statistics as stats\n",
    "print(\"\"\"\n",
    "    Mean: %d\n",
    "    Median: %d\n",
    "    Mode: %d\n",
    "    Range: %d\n",
    "\"\"\" % (stats.mean(lifestan),stats.median(lifestan),stats.mode(lifestan), max(lifestan)-min(lifestan)))"
   ]
  },
  {
   "cell_type": "code",
   "execution_count": 42,
   "metadata": {},
   "outputs": [
    {
     "name": "stdout",
     "output_type": "stream",
     "text": [
      "\n",
      "    Variance: 153\n",
      "    Standar Desviation: 12\n",
      "\n"
     ]
    }
   ],
   "source": [
    "print(\"\"\"\n",
    "    Variance: %d\n",
    "    Standar Desviation: %d\n",
    "\"\"\" % (stats.pvariance(lifestan),stats.pstdev(lifestan)))"
   ]
  },
  {
   "cell_type": "code",
   "execution_count": 44,
   "metadata": {},
   "outputs": [
    {
     "name": "stdout",
     "output_type": "stream",
     "text": [
      "Absolute frecuency group by mpg: \n",
      " 15     94\n",
      "10     66\n",
      "12     61\n",
      "8      32\n",
      "14     32\n",
      "20     32\n",
      "1      30\n",
      "3      30\n",
      "2      28\n",
      "5      21\n",
      "30     20\n",
      "4      16\n",
      "18     14\n",
      "16     13\n",
      "50     13\n",
      "13     10\n",
      "35      9\n",
      "7       9\n",
      "25      8\n",
      "40      8\n",
      "6       7\n",
      "55      6\n",
      "11      6\n",
      "60      6\n",
      "9       4\n",
      "19      3\n",
      "22      2\n",
      "45      2\n",
      "17      1\n",
      "80      1\n",
      "100     1\n",
      "dtype: int64\n",
      "\n",
      "Absolute acumulative frecuency group by mpg: \n",
      " 15      94\n",
      "10     160\n",
      "12     221\n",
      "8      253\n",
      "14     285\n",
      "20     317\n",
      "1      347\n",
      "3      377\n",
      "2      405\n",
      "5      426\n",
      "30     446\n",
      "4      462\n",
      "18     476\n",
      "16     489\n",
      "50     502\n",
      "13     512\n",
      "35     521\n",
      "7      530\n",
      "25     538\n",
      "40     546\n",
      "6      553\n",
      "55     559\n",
      "11     565\n",
      "60     571\n",
      "9      575\n",
      "19     578\n",
      "22     580\n",
      "45     582\n",
      "17     583\n",
      "80     584\n",
      "100    585\n",
      "dtype: int64\n"
     ]
    }
   ],
   "source": [
    "import pandas as pd\n",
    "\n",
    "def absFrec(data):\n",
    "    datos = pd.Series(data)\n",
    "    return (datos.value_counts())\n",
    "\n",
    "def absFrec_acum(data):\n",
    "    datos = pd.Series(absFrec(data))\n",
    "    return datos.cumsum()\n",
    " \n",
    "print(\"Absolute frecuency group by mpg: \\n\", (pd.Series(lifestan)).value_counts())\n",
    "print(\"\\nAbsolute acumulative frecuency group by mpg: \\n\", ((pd.Series(lifestan)).value_counts()).cumsum())"
   ]
  },
  {
   "cell_type": "code",
   "execution_count": 45,
   "metadata": {},
   "outputs": [
    {
     "name": "stdout",
     "output_type": "stream",
     "text": [
      "Absolute frecuency group by mpg: \n",
      " 15     0.160684\n",
      "10     0.112821\n",
      "12     0.104274\n",
      "8      0.054701\n",
      "14     0.054701\n",
      "20     0.054701\n",
      "1      0.051282\n",
      "3      0.051282\n",
      "2      0.047863\n",
      "5      0.035897\n",
      "30     0.034188\n",
      "4      0.027350\n",
      "18     0.023932\n",
      "16     0.022222\n",
      "50     0.022222\n",
      "13     0.017094\n",
      "35     0.015385\n",
      "7      0.015385\n",
      "25     0.013675\n",
      "40     0.013675\n",
      "6      0.011966\n",
      "55     0.010256\n",
      "11     0.010256\n",
      "60     0.010256\n",
      "9      0.006838\n",
      "19     0.005128\n",
      "22     0.003419\n",
      "45     0.003419\n",
      "17     0.001709\n",
      "80     0.001709\n",
      "100    0.001709\n",
      "dtype: float64\n",
      "\n",
      "Absolute acumulative frecuency group by mpg: \n",
      " 15     0.160684\n",
      "10     0.273504\n",
      "12     0.377778\n",
      "8      0.432479\n",
      "14     0.487179\n",
      "20     0.541880\n",
      "1      0.593162\n",
      "3      0.644444\n",
      "2      0.692308\n",
      "5      0.728205\n",
      "30     0.762393\n",
      "4      0.789744\n",
      "18     0.813675\n",
      "16     0.835897\n",
      "50     0.858120\n",
      "13     0.875214\n",
      "35     0.890598\n",
      "7      0.905983\n",
      "25     0.919658\n",
      "40     0.933333\n",
      "6      0.945299\n",
      "55     0.955556\n",
      "11     0.965812\n",
      "60     0.976068\n",
      "9      0.982906\n",
      "19     0.988034\n",
      "22     0.991453\n",
      "45     0.994872\n",
      "17     0.996581\n",
      "80     0.998291\n",
      "100    1.000000\n",
      "dtype: float64\n"
     ]
    }
   ],
   "source": [
    "def relFrec(data):\n",
    "    datos = pd.Series(data)\n",
    "    for i in range(len(data)):\n",
    "        return (absFrec(data)/len(data))\n",
    "        \n",
    "\n",
    "def relFrec_acum(data):\n",
    "    datos = pd.Series(relFrec(data))\n",
    "    return datos.cumsum()\n",
    " \n",
    "\n",
    "print(\"Absolute frecuency group by mpg: \\n\", relFrec(lifestan))\n",
    "print(\"\\nAbsolute acumulative frecuency group by mpg: \\n\", relFrec_acum(lifestan))\n"
   ]
  },
  {
   "cell_type": "code",
   "execution_count": 46,
   "metadata": {},
   "outputs": [
    {
     "name": "stdout",
     "output_type": "stream",
     "text": [
      "54ª QUANTILE:  0    13.0\n",
      "Name: 0.54, dtype: float64\n"
     ]
    }
   ],
   "source": [
    "import numpy as np\n",
    "def quantiles(data, num):\n",
    "    datos = pd.DataFrame(np.array(data))\n",
    "    return datos.quantile(num)\n",
    "\n",
    "print(\"54ª QUANTILE: \",quantiles(lifestan, .54))"
   ]
  },
  {
   "cell_type": "code",
   "execution_count": 47,
   "metadata": {},
   "outputs": [
    {
     "data": {
      "text/plain": [
       "3.800809630349019"
      ]
     },
     "execution_count": 47,
     "metadata": {},
     "output_type": "execute_result"
    }
   ],
   "source": [
    "def rootMeanSqr(data):\n",
    "    return(stats.mean(data)**(1/2))\n",
    "rootMeanSqr(lifestan)"
   ]
  },
  {
   "cell_type": "code",
   "execution_count": 49,
   "metadata": {},
   "outputs": [
    {
     "data": {
      "text/plain": [
       "1.2138727523147708e-15"
      ]
     },
     "execution_count": 49,
     "metadata": {},
     "output_type": "execute_result"
    }
   ],
   "source": [
    "def rootMeanSqrAn (data, media):\n",
    "    res = 0\n",
    "    for i in range(len(data)):\n",
    "        anomaly =  (data[i]- media**2)/len(data) + res\n",
    "        res = anomaly\n",
    "    return res\n",
    "rootMeanSqrAn(lifestan, rootMeanSqr(lifestan) )\n",
    "    "
   ]
  },
  {
   "cell_type": "code",
   "execution_count": null,
   "metadata": {},
   "outputs": [],
   "source": []
  }
 ],
 "metadata": {
  "kernelspec": {
   "display_name": "Python 3",
   "language": "python",
   "name": "python3"
  },
  "language_info": {
   "codemirror_mode": {
    "name": "ipython",
    "version": 3
   },
   "file_extension": ".py",
   "mimetype": "text/x-python",
   "name": "python",
   "nbconvert_exporter": "python",
   "pygments_lexer": "ipython3",
   "version": "3.7.3"
  }
 },
 "nbformat": 4,
 "nbformat_minor": 2
}
