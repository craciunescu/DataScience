{
 "cells": [
  {
   "cell_type": "markdown",
   "metadata": {},
   "source": [
    "## SECOND EXERCISE\n"
   ]
  },
  {
   "cell_type": "markdown",
   "metadata": {},
   "source": [
    "Now, data is taken for \"animals.csv\", wich is a file generated with the following code:"
   ]
  },
  {
   "cell_type": "code",
   "execution_count": 26,
   "metadata": {},
   "outputs": [
    {
     "name": "stdout",
     "output_type": "stream",
     "text": [
      "Animal Asiatic Black Bear does not have same standard.\n",
      "Animal Dalmatian does not have same standard.\n",
      "Animal Finnish Spitz does not have same standard.\n"
     ]
    },
    {
     "ename": "KeyboardInterrupt",
     "evalue": "",
     "output_type": "error",
     "traceback": [
      "\u001b[1;31m---------------------------------------------------------------------------\u001b[0m",
      "\u001b[1;31mKeyboardInterrupt\u001b[0m                         Traceback (most recent call last)",
      "\u001b[1;32m<ipython-input-26-3d2fb0e07070>\u001b[0m in \u001b[0;36m<module>\u001b[1;34m\u001b[0m\n\u001b[0;32m     26\u001b[0m     \u001b[1;32mtry\u001b[0m\u001b[1;33m:\u001b[0m\u001b[1;33m\u001b[0m\u001b[1;33m\u001b[0m\u001b[0m\n\u001b[0;32m     27\u001b[0m         \u001b[1;31m# Access page of animal.\u001b[0m\u001b[1;33m\u001b[0m\u001b[1;33m\u001b[0m\u001b[1;33m\u001b[0m\u001b[0m\n\u001b[1;32m---> 28\u001b[1;33m         \u001b[0muClient\u001b[0m \u001b[1;33m=\u001b[0m \u001b[0muReq\u001b[0m\u001b[1;33m(\u001b[0m\u001b[1;34m\"https://a-z-animals.com/animals/\"\u001b[0m\u001b[1;33m+\u001b[0m\u001b[0mname\u001b[0m\u001b[1;33m.\u001b[0m\u001b[0mreplace\u001b[0m\u001b[1;33m(\u001b[0m\u001b[1;34m\" \"\u001b[0m\u001b[1;33m,\u001b[0m\u001b[1;34m\"-\"\u001b[0m\u001b[1;33m)\u001b[0m\u001b[1;33m.\u001b[0m\u001b[0mlower\u001b[0m\u001b[1;33m(\u001b[0m\u001b[1;33m)\u001b[0m\u001b[1;33m)\u001b[0m\u001b[1;33m\u001b[0m\u001b[1;33m\u001b[0m\u001b[0m\n\u001b[0m\u001b[0;32m     29\u001b[0m         \u001b[0mpageHtml\u001b[0m \u001b[1;33m=\u001b[0m \u001b[0muClient\u001b[0m\u001b[1;33m.\u001b[0m\u001b[0mread\u001b[0m\u001b[1;33m(\u001b[0m\u001b[1;33m)\u001b[0m\u001b[1;33m\u001b[0m\u001b[1;33m\u001b[0m\u001b[0m\n\u001b[0;32m     30\u001b[0m         \u001b[0muClient\u001b[0m\u001b[1;33m.\u001b[0m\u001b[0mclose\u001b[0m\u001b[1;33m(\u001b[0m\u001b[1;33m)\u001b[0m\u001b[1;33m\u001b[0m\u001b[1;33m\u001b[0m\u001b[0m\n",
      "\u001b[1;32mC:\\ProgramData\\Anaconda3\\lib\\urllib\\request.py\u001b[0m in \u001b[0;36murlopen\u001b[1;34m(url, data, timeout, cafile, capath, cadefault, context)\u001b[0m\n\u001b[0;32m    220\u001b[0m     \u001b[1;32melse\u001b[0m\u001b[1;33m:\u001b[0m\u001b[1;33m\u001b[0m\u001b[1;33m\u001b[0m\u001b[0m\n\u001b[0;32m    221\u001b[0m         \u001b[0mopener\u001b[0m \u001b[1;33m=\u001b[0m \u001b[0m_opener\u001b[0m\u001b[1;33m\u001b[0m\u001b[1;33m\u001b[0m\u001b[0m\n\u001b[1;32m--> 222\u001b[1;33m     \u001b[1;32mreturn\u001b[0m \u001b[0mopener\u001b[0m\u001b[1;33m.\u001b[0m\u001b[0mopen\u001b[0m\u001b[1;33m(\u001b[0m\u001b[0murl\u001b[0m\u001b[1;33m,\u001b[0m \u001b[0mdata\u001b[0m\u001b[1;33m,\u001b[0m \u001b[0mtimeout\u001b[0m\u001b[1;33m)\u001b[0m\u001b[1;33m\u001b[0m\u001b[1;33m\u001b[0m\u001b[0m\n\u001b[0m\u001b[0;32m    223\u001b[0m \u001b[1;33m\u001b[0m\u001b[0m\n\u001b[0;32m    224\u001b[0m \u001b[1;32mdef\u001b[0m \u001b[0minstall_opener\u001b[0m\u001b[1;33m(\u001b[0m\u001b[0mopener\u001b[0m\u001b[1;33m)\u001b[0m\u001b[1;33m:\u001b[0m\u001b[1;33m\u001b[0m\u001b[1;33m\u001b[0m\u001b[0m\n",
      "\u001b[1;32mC:\\ProgramData\\Anaconda3\\lib\\urllib\\request.py\u001b[0m in \u001b[0;36mopen\u001b[1;34m(self, fullurl, data, timeout)\u001b[0m\n\u001b[0;32m    529\u001b[0m         \u001b[1;32mfor\u001b[0m \u001b[0mprocessor\u001b[0m \u001b[1;32min\u001b[0m \u001b[0mself\u001b[0m\u001b[1;33m.\u001b[0m\u001b[0mprocess_response\u001b[0m\u001b[1;33m.\u001b[0m\u001b[0mget\u001b[0m\u001b[1;33m(\u001b[0m\u001b[0mprotocol\u001b[0m\u001b[1;33m,\u001b[0m \u001b[1;33m[\u001b[0m\u001b[1;33m]\u001b[0m\u001b[1;33m)\u001b[0m\u001b[1;33m:\u001b[0m\u001b[1;33m\u001b[0m\u001b[1;33m\u001b[0m\u001b[0m\n\u001b[0;32m    530\u001b[0m             \u001b[0mmeth\u001b[0m \u001b[1;33m=\u001b[0m \u001b[0mgetattr\u001b[0m\u001b[1;33m(\u001b[0m\u001b[0mprocessor\u001b[0m\u001b[1;33m,\u001b[0m \u001b[0mmeth_name\u001b[0m\u001b[1;33m)\u001b[0m\u001b[1;33m\u001b[0m\u001b[1;33m\u001b[0m\u001b[0m\n\u001b[1;32m--> 531\u001b[1;33m             \u001b[0mresponse\u001b[0m \u001b[1;33m=\u001b[0m \u001b[0mmeth\u001b[0m\u001b[1;33m(\u001b[0m\u001b[0mreq\u001b[0m\u001b[1;33m,\u001b[0m \u001b[0mresponse\u001b[0m\u001b[1;33m)\u001b[0m\u001b[1;33m\u001b[0m\u001b[1;33m\u001b[0m\u001b[0m\n\u001b[0m\u001b[0;32m    532\u001b[0m \u001b[1;33m\u001b[0m\u001b[0m\n\u001b[0;32m    533\u001b[0m         \u001b[1;32mreturn\u001b[0m \u001b[0mresponse\u001b[0m\u001b[1;33m\u001b[0m\u001b[1;33m\u001b[0m\u001b[0m\n",
      "\u001b[1;32mC:\\ProgramData\\Anaconda3\\lib\\urllib\\request.py\u001b[0m in \u001b[0;36mhttp_response\u001b[1;34m(self, request, response)\u001b[0m\n\u001b[0;32m    639\u001b[0m         \u001b[1;32mif\u001b[0m \u001b[1;32mnot\u001b[0m \u001b[1;33m(\u001b[0m\u001b[1;36m200\u001b[0m \u001b[1;33m<=\u001b[0m \u001b[0mcode\u001b[0m \u001b[1;33m<\u001b[0m \u001b[1;36m300\u001b[0m\u001b[1;33m)\u001b[0m\u001b[1;33m:\u001b[0m\u001b[1;33m\u001b[0m\u001b[1;33m\u001b[0m\u001b[0m\n\u001b[0;32m    640\u001b[0m             response = self.parent.error(\n\u001b[1;32m--> 641\u001b[1;33m                 'http', request, response, code, msg, hdrs)\n\u001b[0m\u001b[0;32m    642\u001b[0m \u001b[1;33m\u001b[0m\u001b[0m\n\u001b[0;32m    643\u001b[0m         \u001b[1;32mreturn\u001b[0m \u001b[0mresponse\u001b[0m\u001b[1;33m\u001b[0m\u001b[1;33m\u001b[0m\u001b[0m\n",
      "\u001b[1;32mC:\\ProgramData\\Anaconda3\\lib\\urllib\\request.py\u001b[0m in \u001b[0;36merror\u001b[1;34m(self, proto, *args)\u001b[0m\n\u001b[0;32m    561\u001b[0m             \u001b[0mhttp_err\u001b[0m \u001b[1;33m=\u001b[0m \u001b[1;36m0\u001b[0m\u001b[1;33m\u001b[0m\u001b[1;33m\u001b[0m\u001b[0m\n\u001b[0;32m    562\u001b[0m         \u001b[0margs\u001b[0m \u001b[1;33m=\u001b[0m \u001b[1;33m(\u001b[0m\u001b[0mdict\u001b[0m\u001b[1;33m,\u001b[0m \u001b[0mproto\u001b[0m\u001b[1;33m,\u001b[0m \u001b[0mmeth_name\u001b[0m\u001b[1;33m)\u001b[0m \u001b[1;33m+\u001b[0m \u001b[0margs\u001b[0m\u001b[1;33m\u001b[0m\u001b[1;33m\u001b[0m\u001b[0m\n\u001b[1;32m--> 563\u001b[1;33m         \u001b[0mresult\u001b[0m \u001b[1;33m=\u001b[0m \u001b[0mself\u001b[0m\u001b[1;33m.\u001b[0m\u001b[0m_call_chain\u001b[0m\u001b[1;33m(\u001b[0m\u001b[1;33m*\u001b[0m\u001b[0margs\u001b[0m\u001b[1;33m)\u001b[0m\u001b[1;33m\u001b[0m\u001b[1;33m\u001b[0m\u001b[0m\n\u001b[0m\u001b[0;32m    564\u001b[0m         \u001b[1;32mif\u001b[0m \u001b[0mresult\u001b[0m\u001b[1;33m:\u001b[0m\u001b[1;33m\u001b[0m\u001b[1;33m\u001b[0m\u001b[0m\n\u001b[0;32m    565\u001b[0m             \u001b[1;32mreturn\u001b[0m \u001b[0mresult\u001b[0m\u001b[1;33m\u001b[0m\u001b[1;33m\u001b[0m\u001b[0m\n",
      "\u001b[1;32mC:\\ProgramData\\Anaconda3\\lib\\urllib\\request.py\u001b[0m in \u001b[0;36m_call_chain\u001b[1;34m(self, chain, kind, meth_name, *args)\u001b[0m\n\u001b[0;32m    501\u001b[0m         \u001b[1;32mfor\u001b[0m \u001b[0mhandler\u001b[0m \u001b[1;32min\u001b[0m \u001b[0mhandlers\u001b[0m\u001b[1;33m:\u001b[0m\u001b[1;33m\u001b[0m\u001b[1;33m\u001b[0m\u001b[0m\n\u001b[0;32m    502\u001b[0m             \u001b[0mfunc\u001b[0m \u001b[1;33m=\u001b[0m \u001b[0mgetattr\u001b[0m\u001b[1;33m(\u001b[0m\u001b[0mhandler\u001b[0m\u001b[1;33m,\u001b[0m \u001b[0mmeth_name\u001b[0m\u001b[1;33m)\u001b[0m\u001b[1;33m\u001b[0m\u001b[1;33m\u001b[0m\u001b[0m\n\u001b[1;32m--> 503\u001b[1;33m             \u001b[0mresult\u001b[0m \u001b[1;33m=\u001b[0m \u001b[0mfunc\u001b[0m\u001b[1;33m(\u001b[0m\u001b[1;33m*\u001b[0m\u001b[0margs\u001b[0m\u001b[1;33m)\u001b[0m\u001b[1;33m\u001b[0m\u001b[1;33m\u001b[0m\u001b[0m\n\u001b[0m\u001b[0;32m    504\u001b[0m             \u001b[1;32mif\u001b[0m \u001b[0mresult\u001b[0m \u001b[1;32mis\u001b[0m \u001b[1;32mnot\u001b[0m \u001b[1;32mNone\u001b[0m\u001b[1;33m:\u001b[0m\u001b[1;33m\u001b[0m\u001b[1;33m\u001b[0m\u001b[0m\n\u001b[0;32m    505\u001b[0m                 \u001b[1;32mreturn\u001b[0m \u001b[0mresult\u001b[0m\u001b[1;33m\u001b[0m\u001b[1;33m\u001b[0m\u001b[0m\n",
      "\u001b[1;32mC:\\ProgramData\\Anaconda3\\lib\\urllib\\request.py\u001b[0m in \u001b[0;36mhttp_error_302\u001b[1;34m(self, req, fp, code, msg, headers)\u001b[0m\n\u001b[0;32m    753\u001b[0m         \u001b[0mfp\u001b[0m\u001b[1;33m.\u001b[0m\u001b[0mclose\u001b[0m\u001b[1;33m(\u001b[0m\u001b[1;33m)\u001b[0m\u001b[1;33m\u001b[0m\u001b[1;33m\u001b[0m\u001b[0m\n\u001b[0;32m    754\u001b[0m \u001b[1;33m\u001b[0m\u001b[0m\n\u001b[1;32m--> 755\u001b[1;33m         \u001b[1;32mreturn\u001b[0m \u001b[0mself\u001b[0m\u001b[1;33m.\u001b[0m\u001b[0mparent\u001b[0m\u001b[1;33m.\u001b[0m\u001b[0mopen\u001b[0m\u001b[1;33m(\u001b[0m\u001b[0mnew\u001b[0m\u001b[1;33m,\u001b[0m \u001b[0mtimeout\u001b[0m\u001b[1;33m=\u001b[0m\u001b[0mreq\u001b[0m\u001b[1;33m.\u001b[0m\u001b[0mtimeout\u001b[0m\u001b[1;33m)\u001b[0m\u001b[1;33m\u001b[0m\u001b[1;33m\u001b[0m\u001b[0m\n\u001b[0m\u001b[0;32m    756\u001b[0m \u001b[1;33m\u001b[0m\u001b[0m\n\u001b[0;32m    757\u001b[0m     \u001b[0mhttp_error_301\u001b[0m \u001b[1;33m=\u001b[0m \u001b[0mhttp_error_303\u001b[0m \u001b[1;33m=\u001b[0m \u001b[0mhttp_error_307\u001b[0m \u001b[1;33m=\u001b[0m \u001b[0mhttp_error_302\u001b[0m\u001b[1;33m\u001b[0m\u001b[1;33m\u001b[0m\u001b[0m\n",
      "\u001b[1;32mC:\\ProgramData\\Anaconda3\\lib\\urllib\\request.py\u001b[0m in \u001b[0;36mopen\u001b[1;34m(self, fullurl, data, timeout)\u001b[0m\n\u001b[0;32m    523\u001b[0m             \u001b[0mreq\u001b[0m \u001b[1;33m=\u001b[0m \u001b[0mmeth\u001b[0m\u001b[1;33m(\u001b[0m\u001b[0mreq\u001b[0m\u001b[1;33m)\u001b[0m\u001b[1;33m\u001b[0m\u001b[1;33m\u001b[0m\u001b[0m\n\u001b[0;32m    524\u001b[0m \u001b[1;33m\u001b[0m\u001b[0m\n\u001b[1;32m--> 525\u001b[1;33m         \u001b[0mresponse\u001b[0m \u001b[1;33m=\u001b[0m \u001b[0mself\u001b[0m\u001b[1;33m.\u001b[0m\u001b[0m_open\u001b[0m\u001b[1;33m(\u001b[0m\u001b[0mreq\u001b[0m\u001b[1;33m,\u001b[0m \u001b[0mdata\u001b[0m\u001b[1;33m)\u001b[0m\u001b[1;33m\u001b[0m\u001b[1;33m\u001b[0m\u001b[0m\n\u001b[0m\u001b[0;32m    526\u001b[0m \u001b[1;33m\u001b[0m\u001b[0m\n\u001b[0;32m    527\u001b[0m         \u001b[1;31m# post-process response\u001b[0m\u001b[1;33m\u001b[0m\u001b[1;33m\u001b[0m\u001b[1;33m\u001b[0m\u001b[0m\n",
      "\u001b[1;32mC:\\ProgramData\\Anaconda3\\lib\\urllib\\request.py\u001b[0m in \u001b[0;36m_open\u001b[1;34m(self, req, data)\u001b[0m\n\u001b[0;32m    541\u001b[0m         \u001b[0mprotocol\u001b[0m \u001b[1;33m=\u001b[0m \u001b[0mreq\u001b[0m\u001b[1;33m.\u001b[0m\u001b[0mtype\u001b[0m\u001b[1;33m\u001b[0m\u001b[1;33m\u001b[0m\u001b[0m\n\u001b[0;32m    542\u001b[0m         result = self._call_chain(self.handle_open, protocol, protocol +\n\u001b[1;32m--> 543\u001b[1;33m                                   '_open', req)\n\u001b[0m\u001b[0;32m    544\u001b[0m         \u001b[1;32mif\u001b[0m \u001b[0mresult\u001b[0m\u001b[1;33m:\u001b[0m\u001b[1;33m\u001b[0m\u001b[1;33m\u001b[0m\u001b[0m\n\u001b[0;32m    545\u001b[0m             \u001b[1;32mreturn\u001b[0m \u001b[0mresult\u001b[0m\u001b[1;33m\u001b[0m\u001b[1;33m\u001b[0m\u001b[0m\n",
      "\u001b[1;32mC:\\ProgramData\\Anaconda3\\lib\\urllib\\request.py\u001b[0m in \u001b[0;36m_call_chain\u001b[1;34m(self, chain, kind, meth_name, *args)\u001b[0m\n\u001b[0;32m    501\u001b[0m         \u001b[1;32mfor\u001b[0m \u001b[0mhandler\u001b[0m \u001b[1;32min\u001b[0m \u001b[0mhandlers\u001b[0m\u001b[1;33m:\u001b[0m\u001b[1;33m\u001b[0m\u001b[1;33m\u001b[0m\u001b[0m\n\u001b[0;32m    502\u001b[0m             \u001b[0mfunc\u001b[0m \u001b[1;33m=\u001b[0m \u001b[0mgetattr\u001b[0m\u001b[1;33m(\u001b[0m\u001b[0mhandler\u001b[0m\u001b[1;33m,\u001b[0m \u001b[0mmeth_name\u001b[0m\u001b[1;33m)\u001b[0m\u001b[1;33m\u001b[0m\u001b[1;33m\u001b[0m\u001b[0m\n\u001b[1;32m--> 503\u001b[1;33m             \u001b[0mresult\u001b[0m \u001b[1;33m=\u001b[0m \u001b[0mfunc\u001b[0m\u001b[1;33m(\u001b[0m\u001b[1;33m*\u001b[0m\u001b[0margs\u001b[0m\u001b[1;33m)\u001b[0m\u001b[1;33m\u001b[0m\u001b[1;33m\u001b[0m\u001b[0m\n\u001b[0m\u001b[0;32m    504\u001b[0m             \u001b[1;32mif\u001b[0m \u001b[0mresult\u001b[0m \u001b[1;32mis\u001b[0m \u001b[1;32mnot\u001b[0m \u001b[1;32mNone\u001b[0m\u001b[1;33m:\u001b[0m\u001b[1;33m\u001b[0m\u001b[1;33m\u001b[0m\u001b[0m\n\u001b[0;32m    505\u001b[0m                 \u001b[1;32mreturn\u001b[0m \u001b[0mresult\u001b[0m\u001b[1;33m\u001b[0m\u001b[1;33m\u001b[0m\u001b[0m\n",
      "\u001b[1;32mC:\\ProgramData\\Anaconda3\\lib\\urllib\\request.py\u001b[0m in \u001b[0;36mhttps_open\u001b[1;34m(self, req)\u001b[0m\n\u001b[0;32m   1358\u001b[0m         \u001b[1;32mdef\u001b[0m \u001b[0mhttps_open\u001b[0m\u001b[1;33m(\u001b[0m\u001b[0mself\u001b[0m\u001b[1;33m,\u001b[0m \u001b[0mreq\u001b[0m\u001b[1;33m)\u001b[0m\u001b[1;33m:\u001b[0m\u001b[1;33m\u001b[0m\u001b[1;33m\u001b[0m\u001b[0m\n\u001b[0;32m   1359\u001b[0m             return self.do_open(http.client.HTTPSConnection, req,\n\u001b[1;32m-> 1360\u001b[1;33m                 context=self._context, check_hostname=self._check_hostname)\n\u001b[0m\u001b[0;32m   1361\u001b[0m \u001b[1;33m\u001b[0m\u001b[0m\n\u001b[0;32m   1362\u001b[0m         \u001b[0mhttps_request\u001b[0m \u001b[1;33m=\u001b[0m \u001b[0mAbstractHTTPHandler\u001b[0m\u001b[1;33m.\u001b[0m\u001b[0mdo_request_\u001b[0m\u001b[1;33m\u001b[0m\u001b[1;33m\u001b[0m\u001b[0m\n",
      "\u001b[1;32mC:\\ProgramData\\Anaconda3\\lib\\urllib\\request.py\u001b[0m in \u001b[0;36mdo_open\u001b[1;34m(self, http_class, req, **http_conn_args)\u001b[0m\n\u001b[0;32m   1318\u001b[0m             \u001b[1;32mexcept\u001b[0m \u001b[0mOSError\u001b[0m \u001b[1;32mas\u001b[0m \u001b[0merr\u001b[0m\u001b[1;33m:\u001b[0m \u001b[1;31m# timeout error\u001b[0m\u001b[1;33m\u001b[0m\u001b[1;33m\u001b[0m\u001b[0m\n\u001b[0;32m   1319\u001b[0m                 \u001b[1;32mraise\u001b[0m \u001b[0mURLError\u001b[0m\u001b[1;33m(\u001b[0m\u001b[0merr\u001b[0m\u001b[1;33m)\u001b[0m\u001b[1;33m\u001b[0m\u001b[1;33m\u001b[0m\u001b[0m\n\u001b[1;32m-> 1320\u001b[1;33m             \u001b[0mr\u001b[0m \u001b[1;33m=\u001b[0m \u001b[0mh\u001b[0m\u001b[1;33m.\u001b[0m\u001b[0mgetresponse\u001b[0m\u001b[1;33m(\u001b[0m\u001b[1;33m)\u001b[0m\u001b[1;33m\u001b[0m\u001b[1;33m\u001b[0m\u001b[0m\n\u001b[0m\u001b[0;32m   1321\u001b[0m         \u001b[1;32mexcept\u001b[0m\u001b[1;33m:\u001b[0m\u001b[1;33m\u001b[0m\u001b[1;33m\u001b[0m\u001b[0m\n\u001b[0;32m   1322\u001b[0m             \u001b[0mh\u001b[0m\u001b[1;33m.\u001b[0m\u001b[0mclose\u001b[0m\u001b[1;33m(\u001b[0m\u001b[1;33m)\u001b[0m\u001b[1;33m\u001b[0m\u001b[1;33m\u001b[0m\u001b[0m\n",
      "\u001b[1;32mC:\\ProgramData\\Anaconda3\\lib\\http\\client.py\u001b[0m in \u001b[0;36mgetresponse\u001b[1;34m(self)\u001b[0m\n\u001b[0;32m   1319\u001b[0m         \u001b[1;32mtry\u001b[0m\u001b[1;33m:\u001b[0m\u001b[1;33m\u001b[0m\u001b[1;33m\u001b[0m\u001b[0m\n\u001b[0;32m   1320\u001b[0m             \u001b[1;32mtry\u001b[0m\u001b[1;33m:\u001b[0m\u001b[1;33m\u001b[0m\u001b[1;33m\u001b[0m\u001b[0m\n\u001b[1;32m-> 1321\u001b[1;33m                 \u001b[0mresponse\u001b[0m\u001b[1;33m.\u001b[0m\u001b[0mbegin\u001b[0m\u001b[1;33m(\u001b[0m\u001b[1;33m)\u001b[0m\u001b[1;33m\u001b[0m\u001b[1;33m\u001b[0m\u001b[0m\n\u001b[0m\u001b[0;32m   1322\u001b[0m             \u001b[1;32mexcept\u001b[0m \u001b[0mConnectionError\u001b[0m\u001b[1;33m:\u001b[0m\u001b[1;33m\u001b[0m\u001b[1;33m\u001b[0m\u001b[0m\n\u001b[0;32m   1323\u001b[0m                 \u001b[0mself\u001b[0m\u001b[1;33m.\u001b[0m\u001b[0mclose\u001b[0m\u001b[1;33m(\u001b[0m\u001b[1;33m)\u001b[0m\u001b[1;33m\u001b[0m\u001b[1;33m\u001b[0m\u001b[0m\n",
      "\u001b[1;32mC:\\ProgramData\\Anaconda3\\lib\\http\\client.py\u001b[0m in \u001b[0;36mbegin\u001b[1;34m(self)\u001b[0m\n\u001b[0;32m    294\u001b[0m         \u001b[1;31m# read until we get a non-100 response\u001b[0m\u001b[1;33m\u001b[0m\u001b[1;33m\u001b[0m\u001b[1;33m\u001b[0m\u001b[0m\n\u001b[0;32m    295\u001b[0m         \u001b[1;32mwhile\u001b[0m \u001b[1;32mTrue\u001b[0m\u001b[1;33m:\u001b[0m\u001b[1;33m\u001b[0m\u001b[1;33m\u001b[0m\u001b[0m\n\u001b[1;32m--> 296\u001b[1;33m             \u001b[0mversion\u001b[0m\u001b[1;33m,\u001b[0m \u001b[0mstatus\u001b[0m\u001b[1;33m,\u001b[0m \u001b[0mreason\u001b[0m \u001b[1;33m=\u001b[0m \u001b[0mself\u001b[0m\u001b[1;33m.\u001b[0m\u001b[0m_read_status\u001b[0m\u001b[1;33m(\u001b[0m\u001b[1;33m)\u001b[0m\u001b[1;33m\u001b[0m\u001b[1;33m\u001b[0m\u001b[0m\n\u001b[0m\u001b[0;32m    297\u001b[0m             \u001b[1;32mif\u001b[0m \u001b[0mstatus\u001b[0m \u001b[1;33m!=\u001b[0m \u001b[0mCONTINUE\u001b[0m\u001b[1;33m:\u001b[0m\u001b[1;33m\u001b[0m\u001b[1;33m\u001b[0m\u001b[0m\n\u001b[0;32m    298\u001b[0m                 \u001b[1;32mbreak\u001b[0m\u001b[1;33m\u001b[0m\u001b[1;33m\u001b[0m\u001b[0m\n",
      "\u001b[1;32mC:\\ProgramData\\Anaconda3\\lib\\http\\client.py\u001b[0m in \u001b[0;36m_read_status\u001b[1;34m(self)\u001b[0m\n\u001b[0;32m    255\u001b[0m \u001b[1;33m\u001b[0m\u001b[0m\n\u001b[0;32m    256\u001b[0m     \u001b[1;32mdef\u001b[0m \u001b[0m_read_status\u001b[0m\u001b[1;33m(\u001b[0m\u001b[0mself\u001b[0m\u001b[1;33m)\u001b[0m\u001b[1;33m:\u001b[0m\u001b[1;33m\u001b[0m\u001b[1;33m\u001b[0m\u001b[0m\n\u001b[1;32m--> 257\u001b[1;33m         \u001b[0mline\u001b[0m \u001b[1;33m=\u001b[0m \u001b[0mstr\u001b[0m\u001b[1;33m(\u001b[0m\u001b[0mself\u001b[0m\u001b[1;33m.\u001b[0m\u001b[0mfp\u001b[0m\u001b[1;33m.\u001b[0m\u001b[0mreadline\u001b[0m\u001b[1;33m(\u001b[0m\u001b[0m_MAXLINE\u001b[0m \u001b[1;33m+\u001b[0m \u001b[1;36m1\u001b[0m\u001b[1;33m)\u001b[0m\u001b[1;33m,\u001b[0m \u001b[1;34m\"iso-8859-1\"\u001b[0m\u001b[1;33m)\u001b[0m\u001b[1;33m\u001b[0m\u001b[1;33m\u001b[0m\u001b[0m\n\u001b[0m\u001b[0;32m    258\u001b[0m         \u001b[1;32mif\u001b[0m \u001b[0mlen\u001b[0m\u001b[1;33m(\u001b[0m\u001b[0mline\u001b[0m\u001b[1;33m)\u001b[0m \u001b[1;33m>\u001b[0m \u001b[0m_MAXLINE\u001b[0m\u001b[1;33m:\u001b[0m\u001b[1;33m\u001b[0m\u001b[1;33m\u001b[0m\u001b[0m\n\u001b[0;32m    259\u001b[0m             \u001b[1;32mraise\u001b[0m \u001b[0mLineTooLong\u001b[0m\u001b[1;33m(\u001b[0m\u001b[1;34m\"status line\"\u001b[0m\u001b[1;33m)\u001b[0m\u001b[1;33m\u001b[0m\u001b[1;33m\u001b[0m\u001b[0m\n",
      "\u001b[1;32mC:\\ProgramData\\Anaconda3\\lib\\socket.py\u001b[0m in \u001b[0;36mreadinto\u001b[1;34m(self, b)\u001b[0m\n\u001b[0;32m    587\u001b[0m         \u001b[1;32mwhile\u001b[0m \u001b[1;32mTrue\u001b[0m\u001b[1;33m:\u001b[0m\u001b[1;33m\u001b[0m\u001b[1;33m\u001b[0m\u001b[0m\n\u001b[0;32m    588\u001b[0m             \u001b[1;32mtry\u001b[0m\u001b[1;33m:\u001b[0m\u001b[1;33m\u001b[0m\u001b[1;33m\u001b[0m\u001b[0m\n\u001b[1;32m--> 589\u001b[1;33m                 \u001b[1;32mreturn\u001b[0m \u001b[0mself\u001b[0m\u001b[1;33m.\u001b[0m\u001b[0m_sock\u001b[0m\u001b[1;33m.\u001b[0m\u001b[0mrecv_into\u001b[0m\u001b[1;33m(\u001b[0m\u001b[0mb\u001b[0m\u001b[1;33m)\u001b[0m\u001b[1;33m\u001b[0m\u001b[1;33m\u001b[0m\u001b[0m\n\u001b[0m\u001b[0;32m    590\u001b[0m             \u001b[1;32mexcept\u001b[0m \u001b[0mtimeout\u001b[0m\u001b[1;33m:\u001b[0m\u001b[1;33m\u001b[0m\u001b[1;33m\u001b[0m\u001b[0m\n\u001b[0;32m    591\u001b[0m                 \u001b[0mself\u001b[0m\u001b[1;33m.\u001b[0m\u001b[0m_timeout_occurred\u001b[0m \u001b[1;33m=\u001b[0m \u001b[1;32mTrue\u001b[0m\u001b[1;33m\u001b[0m\u001b[1;33m\u001b[0m\u001b[0m\n",
      "\u001b[1;32mC:\\ProgramData\\Anaconda3\\lib\\ssl.py\u001b[0m in \u001b[0;36mrecv_into\u001b[1;34m(self, buffer, nbytes, flags)\u001b[0m\n\u001b[0;32m   1050\u001b[0m                   \u001b[1;34m\"non-zero flags not allowed in calls to recv_into() on %s\"\u001b[0m \u001b[1;33m%\u001b[0m\u001b[1;33m\u001b[0m\u001b[1;33m\u001b[0m\u001b[0m\n\u001b[0;32m   1051\u001b[0m                   self.__class__)\n\u001b[1;32m-> 1052\u001b[1;33m             \u001b[1;32mreturn\u001b[0m \u001b[0mself\u001b[0m\u001b[1;33m.\u001b[0m\u001b[0mread\u001b[0m\u001b[1;33m(\u001b[0m\u001b[0mnbytes\u001b[0m\u001b[1;33m,\u001b[0m \u001b[0mbuffer\u001b[0m\u001b[1;33m)\u001b[0m\u001b[1;33m\u001b[0m\u001b[1;33m\u001b[0m\u001b[0m\n\u001b[0m\u001b[0;32m   1053\u001b[0m         \u001b[1;32melse\u001b[0m\u001b[1;33m:\u001b[0m\u001b[1;33m\u001b[0m\u001b[1;33m\u001b[0m\u001b[0m\n\u001b[0;32m   1054\u001b[0m             \u001b[1;32mreturn\u001b[0m \u001b[0msuper\u001b[0m\u001b[1;33m(\u001b[0m\u001b[1;33m)\u001b[0m\u001b[1;33m.\u001b[0m\u001b[0mrecv_into\u001b[0m\u001b[1;33m(\u001b[0m\u001b[0mbuffer\u001b[0m\u001b[1;33m,\u001b[0m \u001b[0mnbytes\u001b[0m\u001b[1;33m,\u001b[0m \u001b[0mflags\u001b[0m\u001b[1;33m)\u001b[0m\u001b[1;33m\u001b[0m\u001b[1;33m\u001b[0m\u001b[0m\n",
      "\u001b[1;32mC:\\ProgramData\\Anaconda3\\lib\\ssl.py\u001b[0m in \u001b[0;36mread\u001b[1;34m(self, len, buffer)\u001b[0m\n\u001b[0;32m    909\u001b[0m         \u001b[1;32mtry\u001b[0m\u001b[1;33m:\u001b[0m\u001b[1;33m\u001b[0m\u001b[1;33m\u001b[0m\u001b[0m\n\u001b[0;32m    910\u001b[0m             \u001b[1;32mif\u001b[0m \u001b[0mbuffer\u001b[0m \u001b[1;32mis\u001b[0m \u001b[1;32mnot\u001b[0m \u001b[1;32mNone\u001b[0m\u001b[1;33m:\u001b[0m\u001b[1;33m\u001b[0m\u001b[1;33m\u001b[0m\u001b[0m\n\u001b[1;32m--> 911\u001b[1;33m                 \u001b[1;32mreturn\u001b[0m \u001b[0mself\u001b[0m\u001b[1;33m.\u001b[0m\u001b[0m_sslobj\u001b[0m\u001b[1;33m.\u001b[0m\u001b[0mread\u001b[0m\u001b[1;33m(\u001b[0m\u001b[0mlen\u001b[0m\u001b[1;33m,\u001b[0m \u001b[0mbuffer\u001b[0m\u001b[1;33m)\u001b[0m\u001b[1;33m\u001b[0m\u001b[1;33m\u001b[0m\u001b[0m\n\u001b[0m\u001b[0;32m    912\u001b[0m             \u001b[1;32melse\u001b[0m\u001b[1;33m:\u001b[0m\u001b[1;33m\u001b[0m\u001b[1;33m\u001b[0m\u001b[0m\n\u001b[0;32m    913\u001b[0m                 \u001b[1;32mreturn\u001b[0m \u001b[0mself\u001b[0m\u001b[1;33m.\u001b[0m\u001b[0m_sslobj\u001b[0m\u001b[1;33m.\u001b[0m\u001b[0mread\u001b[0m\u001b[1;33m(\u001b[0m\u001b[0mlen\u001b[0m\u001b[1;33m)\u001b[0m\u001b[1;33m\u001b[0m\u001b[1;33m\u001b[0m\u001b[0m\n",
      "\u001b[1;31mKeyboardInterrupt\u001b[0m: "
     ]
    }
   ],
   "source": [
    "# Needed imports.\n",
    "import csv\n",
    "import re\n",
    "import bs4\n",
    "from urllib.request import urlopen as uReq\n",
    "from bs4 import BeautifulSoup as soup\n",
    "\n",
    "# Accessed link.\n",
    "url = \"https://a-z-animals.com/animals\"\n",
    "\n",
    "# Open connection and retrieve contents.\n",
    "uClient  = uReq(url)\n",
    "pageHtml = uClient.read()\n",
    "uClient.close()\n",
    "\n",
    "# Parse the content.\n",
    "pageSoup = soup(pageHtml, \"html.parser\")\n",
    "\n",
    "# Retrieve table rows to parse.\n",
    "names = list(map(lambda l: l.text, pageSoup.findAll(\"b\")))[2:595]\n",
    "\n",
    "# Obtain lifespan of each animal.\n",
    "animals = []\n",
    "\n",
    "for name in names:\n",
    "    try:\n",
    "        # Access page of animal.\n",
    "        uClient = uReq(\"https://a-z-animals.com/animals/\"+name.replace(\" \",\"-\").lower())\n",
    "        pageHtml = uClient.read()\n",
    "        uClient.close()\n",
    "\n",
    "        # Parse the page.\n",
    "        animalSoup = soup(pageHtml, \"html.parser\")\n",
    "\n",
    "        # Obtain info.\n",
    "        attributes = animalSoup.findAll(\"table\")[1].findAll(\"tr\")\n",
    "        lifespan = list(filter(lambda l: \"Lifespan\" in l.text, attributes))[0].find_all(\"td\")[1].text.split()[0]\n",
    "\n",
    "        animals.append([name, lifespan])\n",
    "\n",
    "    except Exception:\n",
    "        print(\"Animal \" + name + \" does not have same standard.\")\n",
    "\n",
    "# Create .CSV file\n",
    "with open(\"animals.csv\", \"w\", newline = \"\") as csvfile:\n",
    "    writer = csv.writer(csvfile, delimiter = \",\", quotechar = '\"', quoting =\n",
    "    csv.QUOTE_MINIMAL)\n",
    "\n",
    "    for animal in animals:\n",
    "        writer.writerow(animal)"
   ]
  },
  {
   "cell_type": "code",
   "execution_count": 27,
   "metadata": {},
   "outputs": [
    {
     "name": "stdout",
     "output_type": "stream",
     "text": [
      "[['Aardvark', '23'], ['Abyssinian', '15'], ['Adelie Penguin', '10'], ['Affenpinscher', '12'], ['Afghan Hound', '14'], ['African Bush Elephant', '60'], ['African Civet', '15'], ['African Clawed Frog', '8'], ['African Forest Elephant', '60'], ['African Palm Civet', '15'], ['African Penguin', '10'], ['African Tree Toad', '3'], ['African Wild Dog', '10'], ['Ainu Dog', '12'], ['Airedale Terrier ', '12'], ['Akbash', '11'], ['Akita', '10'], ['Alaskan Malamute', '14'], ['Albatross', '12'], ['Aldabra Giant Tortoise', '80'], ['Alligator', '30'], ['Alpine Dachsbracke', '12'], ['American Bulldog', '14'], ['American Cocker Spaniel', '15'], ['American Coonhound', '12'], ['American Eskimo Dog', '15'], ['American Foxhound', '11'], ['American Pit Bull Terrier', '12'], ['American Staffordshire Terrier', '12'], ['American Water Spaniel', '12'], ['Anatolian Shepherd Dog', '13'], ['Angelfish', '8'], ['Ant', '3'], ['Anteater', '9'], ['Antelope', '10'], ['Appenzeller Dog', '12'], ['Arctic Fox', '7'], ['Arctic Hare', '3'], ['Arctic Wolf', '7'], ['Armadillo', '4'], ['Asian Elephant', '55'], ['Asian Giant Hornet', '3'], ['Asian Palm Civet', '15'], ['Australian Cattle Dog', '15'], ['Australian Kelpie Dog', '14'], ['Australian Mist', '14'], ['Australian Shepherd', '14'], ['Australian Terrier', '14'], ['Avocet', '10'], ['Axolotl', '10'], ['Aye Aye ', '10'], ['Baboon', '15'], ['Bactrian Camel', '35'], ['Badger', '4'], ['Balinese', '15'], ['Banded Palm Civet', '15'], ['Bandicoot', '3-7'], ['Barb', '3'], ['Barn Owl', '5'], ['Barnacle', '8'], ['Barracuda', '10'], ['Basenji Dog', '12'], ['Basking Shark', '20'], ['Basset Hound', '12'], ['Bat', '10'], ['Bavarian Mountain Hound', '14'], ['Beagle', '15'], ['Bear', '15'], ['Bearded Collie', '14'], ['Bearded Dragon', '6'], ['Beaver', '15'], ['Bedlington Terrier', '16'], ['Beetle', '3'], ['Bengal Tiger', '18'], ['Bernese Mountain Dog', '8'], ['Bichon Frise', '15'], ['Binturong', '10'], ['Bird', '1'], ['Birds Of Paradise', '5'], ['Birman', '20'], ['Bison', '15'], ['Black Bear', '15'], ['Black Rhinoceros', '45-50'], ['Black Russian Terrier', '11'], ['Black Widow Spider', '3'], ['Bloodhound', '12'], ['Blue Lacy Dog', '16'], ['Blue Whale', '30'], ['Bluetick Coonhound', '12'], ['Bobcat', '12'], ['Bolognese Dog', '14'], ['Bombay', '13'], ['Bongo', '10'], ['Bonobo', '30'], ['Booby', '12'], ['Border Collie', '20'], ['Border Terrier', '15'], ['Bornean Orang-utan', '30'], ['Borneo Elephant', '55'], ['Boston Terrier', '15'], ['Bottle Nosed Dolphin', '20'], ['Boxer Dog', '11'], ['Boykin Spaniel', '16'], ['Brazilian Terrier', '14'], ['Brown Bear', '20'], ['Budgerigar', '3'], ['Buffalo', '15'], ['Bull Mastiff', '10'], ['Bull Shark', '16'], ['Bull Terrier', '15'], ['Bulldog', '14'], ['Bullfrog', '6'], ['Bumble Bee', '1'], ['Burmese', '12'], ['Burrowing Frog', '10'], ['Butterfly', '40'], ['Butterfly Fish', '6'], ['Caiman', '20'], ['Caiman Lizard', '10'], ['Cairn Terrier', '14'], ['Camel', '40'], ['Canaan Dog', '15'], ['Capybara', '8'], ['Caracal', '12'], ['Carolina Dog', '19'], ['Cassowary', '40'], ['Cat', '15'], ['Caterpillar', '3'], ['Catfish', '8'], ['Cavalier King Charles Spaniel', '15'], ['Centipede', '5'], ['Cesky Fousek', '15'], ['Chameleon', '4'], ['Chamois', '18'], ['Cheetah', '10'], ['Chesapeake Bay Retriever', '13'], ['Chicken', '2'], ['Chihuahua', '18'], ['Chimpanzee', '50'], ['Chinchilla', '10'], ['Chinese Crested Dog', '13'], ['Chinook', '14'], ['Chinstrap Penguin', '15'], ['Chipmunk', '4'], ['Chow Chow', '10'], ['Cichlid', '5'], ['Clouded Leopard', '11'], ['Clown Fish', '4'], ['Clumber Spaniel', '15'], ['Coati', '8-15'], ['Cockroach', '18'], ['Collared Peccary', '10'], ['Collie', '13'], ['Common Buzzard', '12'], ['Common Frog', '5'], ['Common Loon', '15'], ['Common Toad', '2'], ['Coral', '15'], ['Cottontop Tamarin', '8'], ['Cougar', '10'], ['Cow', '12'], ['Coyote', '10'], ['Crab', '1'], ['Crab-Eating Macaque', '15'], ['Crane', '15'], ['Crested Penguin', '15'], ['Crocodile', '20'], ['Cross River Gorilla', '35'], ['Curly Coated Retriever', '14'], ['Cuscus', '8'], ['Cuttlefish', '1'], ['Dachshund', '15'], [\"Darwin's Frog\", '10'], ['Deer', '10'], ['Desert Tortoise', '25'], ['Deutsche Bracke', '12'], ['Dhole', '10'], ['Dingo', '7'], ['Discus', '8'], ['Doberman Pinscher', '12'], ['Dodo', '10'], ['Dog', '15'], ['Dogo Argentino', '13'], ['Dogue De Bordeaux', '12'], ['Dolphin', '20'], ['Donkey', '15'], ['Dormouse', '2'], ['Dragonfly', '6'], ['Drever', '14'], ['Duck', '4'], ['Dugong', '50'], ['Dunker', '14'], ['Dusky Dolphin', '18'], ['Dwarf Crocodile', '40'], ['Eagle', '15'], ['Earwig ', '1'], ['Eastern Gorilla', '35'], ['Eastern Lowland Gorilla', '35'], ['Echidna', '15'], ['Edible Frog', '5'], ['Egyptian Mau', '14'], ['Electric Eel', '15'], ['Elephant', '55'], ['Elephant Seal', '18'], ['Elephant Shrew', '2'], ['Emperor Penguin', '15'], ['Emperor Tamarin', '8'], ['Emu', '12'], ['English Cocker Spaniel', '15'], ['English Shepherd', '16'], ['English Springer Spaniel', '12'], ['Entlebucher Mountain Dog', '12'], ['Epagneul Pont Audemer', '13'], ['Eskimo Dog', '14'], ['Estrela Mountain Dog', '16'], ['Falcon', '12'], ['Fennec Fox', '10'], ['Ferret', '7'], ['Field Spaniel', '14'], ['Fin Whale', '50'], ['Fire-Bellied Toad', '10'], ['Fish', '1'], ['Fishing Cat', '10'], ['Flamingo', '15'], ['Flat Coat Retriever', '12'], ['Flounder', '3'], ['Fly', '25'], ['Flying Squirrel', '5'], ['Fossa', '15'], ['Fox', '3'], ['Fox Terrier', '14'], ['French Bulldog', '12'], ['Frigatebird', '15'], ['Frilled Lizard', '10'], ['Frog', '1'], ['Fur Seal', '12'], ['Galapagos Penguin', '15'], ['Galapagos Tortoise', '100-150'], ['Gar', '10'], ['Gecko', '2-9'], ['Gentoo Penguin', '15'], ['Geoffroys Tamarin', '8'], ['Gerbil', '3-5'], ['German Pinscher', '15'], ['German Shepherd', '12'], ['Gharial', '30'], ['Giant African Land Snail', '3-10'], ['Giant Clam', '20-100'], ['Giant Panda Bear', '20'], ['Gibbon', '25-40'], ['Gila Monster', '20-30'], ['Giraffe', '20'], ['Glass Lizard', '10'], ['Glow Worm', '5'], ['Goat', '10-15'], ['Golden Lion Tamarin', '8-15'], ['Golden Oriole', '8'], ['Golden Retriever', '12'], ['Goose', '12'], ['Gopher', '3-5'], ['Gorilla', '35-50'], ['Grasshopper', '1'], ['Great Dane', '7'], ['Great White Shark', '30'], ['Greater Swiss Mountain Dog', '12'], ['Green Bee-Eater', '12'], ['Greenland Dog', '12'], ['Grey Mouse Lemur', '3'], ['Grey Reef Shark', '22-28'], ['Grey Seal', '18-25'], ['Greyhound', '11'], ['Grizzly Bear', '15'], ['Grouse', '1'], ['Guinea Fowl', '10'], ['Guinea Pig', '3'], ['Guppy', '2'], ['Hammerhead Shark', '20-25'], ['Hamster', '2-3'], ['Hare', '2-8'], ['Harrier', '16'], ['Havanese', '15'], ['Hedgehog', '3-6'], ['Hercules Beetle', '3'], ['Hermit Crab', '1-10'], ['Heron', '15'], ['Highland Cattle', '15-22'], ['Himalayan', '14'], ['Hippopotamus', '30'], ['Honey Bee', '6'], ['Horn Shark', '12'], ['Horned Frog', '5-8'], ['Horse', '25-30'], ['Horseshoe Crab', '20'], ['Howler Monkey', '15-20'], ['Human', '60-80'], ['Humboldt Penguin', '15'], ['Hummingbird', '3'], ['Humpback Whale', '50-60'], ['Hyena', '20-25'], ['Ibis', '8'], ['Ibizan Hound', '14'], ['Iguana', '15-20'], ['Impala', '12-15'], ['Indian Elephant', '55'], ['Indian Palm Squirrel', '2-4'], ['Indian Rhinoceros', '45-50'], ['Indian Star Tortoise', '30'], ['Indochinese Tiger', '18'], ['Indri', '15'], ['Insect', '2'], ['Irish Setter', '16'], ['Irish WolfHound', '9'], ['Jack Russel', '16'], ['Jackal', '8-15'], ['Jaguar', '12'], ['Japanese Chin', '14'], ['Japanese Macaque', '25'], ['Javan Rhinoceros', '30-45'], ['Javanese', '14'], ['Jellyfish', '1-5'], ['Kakapo', '50-65'], ['Kangaroo', '4-10'], ['Keel Billed Toucan', '15'], ['Killer Whale', '50-60'], ['King Crab', '15-30'], ['King Penguin', '15'], ['Kingfisher', '6'], ['Kiwi', '8'], ['Koala', '15'], ['Komodo Dragon', '25'], ['Kudu', '8-14'], ['Labradoodle', '12'], ['Labrador Retriever', '15'], ['Ladybird', '2'], ['Leaf-Tailed Gecko', '2'], ['Lemming', '1-3'], ['Lemur', '10-14'], ['Leopard', '10'], ['Leopard Cat', '10'], ['Leopard Seal', '20-24'], ['Leopard Tortoise', '50'], ['Liger', '18'], ['Lion', '8'], ['Lionfish', '10'], ['Little Penguin', '10'], ['Lizard', '1-30'], ['Llama', '15-20'], ['Lobster', '20-80'], ['Long-Eared Owl', '40'], ['Lynx', '12-20'], ['Macaroni Penguin', '15-20'], ['Macaw', '50'], ['Magellanic Penguin', '15'], ['Magpie', '8'], ['Maine Coon', '12'], ['Malayan Civet', '15'], ['Malayan Tiger', '18'], ['Maltese', '17'], ['Manatee', '50-70'], ['Mandrill', '20-28'], ['Manta Ray', '15'], ['Marine Toad', '10'], ['Markhor', '10'], ['Marsh Frog', '5'], ['Masked Palm Civet', '15'], ['Mastiff', '12'], ['Mayfly', '1-2'], ['Meerkat', '10'], ['Millipede', '7'], ['Minke Whale', '30-50'], ['Mole', '3-6'], ['Molly', '3'], ['Mongoose', '10-15'], ['Monitor Lizard', '8-30'], ['Monkey', '10-30'], ['Monte Iberia Eleuth', '1'], ['Moorhen', '1'], ['Moose', '10-16'], ['Moray Eel', '10-30'], ['Moth', '40'], ['Mountain Gorilla', '35-50'], ['Mountain Lion', '10-20'], ['Mouse', '2-5'], ['Mule', '15-20'], ['Neanderthal', '35-50'], ['Neapolitan Mastiff', '10'], ['Newfoundland', '10'], ['Newt', '2-15'], ['Nightingale', '1'], ['Norfolk Terrier', '15'], ['Norwegian Forest', '15'], ['Numbat', '4-8'], ['Nurse Shark', '20-25'], ['Ocelot', '8'], ['Octopus', '2-15'], ['Okapi', '20'], ['Old English Sheepdog', '12'], ['Olm', '10'], ['Opossum', '2-7'], ['Orang-utan', '30'], ['Ostrich', '50'], ['Otter', '15-25'], ['Oyster', '1'], ['Pademelon', '4-8'], ['Panther', '12'], ['Parrot', '40'], ['Patas Monkey', '12'], ['Peacock', '12'], ['Pekingese', '13'], ['Pelican', '16'], ['Penguin', '20'], ['Persian', '19'], ['Pheasant', '7'], ['Pied Tamarin', '8'], ['Pig', '8-15'], ['Pika', '3-6'], ['Pike', '12'], ['Pink Fairy Armadillo', '5'], ['Piranha', '20'], ['Platypus', '9'], ['Pointer', '13'], ['Poison Dart Frog', '2-4'], ['Polar Bear', '20'], ['Pond Skater', '1'], ['Poodle', '16'], ['Pool Frog', '1'], ['Porcupine', '8-12'], ['Possum', '5-8'], ['Prawn', '2'], ['Proboscis Monkey', '15'], ['Puffer Fish', '4'], ['Puffin', '15'], ['Pug', '14'], ['Puma', '10'], ['Purple Emperor', '1'], ['Puss Moth', '3'], ['Pygmy Hippopotamus', '30'], ['Pygmy Marmoset', '8-12'], ['Quail', '3'], ['Quetzal', '20'], ['Quokka', '5'], ['Quoll', '3-6'], ['Rabbit', '4-8'], ['Raccoon', '12-16'], ['Raccoon Dog', '3'], ['Radiated Tortoise', '30'], ['Ragdoll', '14'], ['Rat', '2-5'], ['Red Knee Tarantula', '20-30'], ['Red Panda', '8'], ['Red Wolf', '10'], ['Red-handed Tamarin', '8'], ['Reindeer', '12-15'], ['Rhinoceros', '30-45'], ['River Dolphin', '12-18'], ['River Turtle', '10-30'], ['Robin', '1'], ['Rock Hyrax', '5'], ['Rockhopper Penguin', '15'], ['Roseate Spoonbill', '10'], ['Rottweiler', '9'], ['Royal Penguin', '15'], ['Russian Blue', '14'], ['Sabre-Toothed Tiger', '20'], ['Saint Bernard', '10'], ['Salamander', '5-20'], ['Sand Lizard', '5'], ['Saola', '8'], ['Scorpion', '4-25'], ['Scorpion Fish', '10'], ['Sea Dragon', '2'], ['Sea Lion', '15-22'], ['Sea Otter', '12-15'], ['Sea Slug', '1-4'], ['Sea Squirt', '7-30'], ['Sea Turtle', '60-80'], ['Sea Urchin', '15-200'], ['Seahorse', '2'], ['Seal', '15-25'], ['Serval', '10'], ['Sheep', '5-10'], ['Shih Tzu', '15'], ['Shrimp', '1-2'], ['Siamese', '12'], ['Siamese Fighting Fish', '1'], ['Siberian', '15'], ['Siberian Husky', '14'], ['Siberian Tiger', '18'], ['Silver Dollar', '2'], ['Skunk', '5-8'], ['Sloth', '25-40'], ['Slow Worm', '10'], ['Snail', '1'], ['Snake', '30'], ['Snapping Turtle', '20-32'], ['Snowshoe', '14'], ['Snowy Owl', '10'], ['Somali', '19'], ['South China Tiger', '18'], ['Spadefoot Toad', '4-8'], ['Sparrow', '4'], ['Spectacled Bear', '20'], ['Sperm Whale', '50'], ['Spider Monkey', '15-27'], ['Spiny Dogfish', '25-80'], ['Sponge', '15-30'], ['Squid', '5-30'], ['Squirrel', '2-8'], ['Squirrel Monkey', '15'], ['Sri Lankan Elephant', '55'], ['Staffordshire Bull Terrier', '14'], ['Stag Beetle', '3'], ['Starfish', '3-27'], ['Stellers Sea Cow', '50'], ['Stick Insect', '1-2'], ['Stingray', '15'], ['Stoat', '4-6'], ['Striped Rocket Frog', '10'], ['Sumatran Elephant', '55'], ['Sumatran Orang-utan', '30'], ['Sumatran Rhinoceros', '30-45'], ['Sumatran Tiger', '18'], ['Sun Bear', '15'], ['Swan', '8'], ['Tang', '8'], ['Tapanuli Orang-utan', '30'], ['Tapir', '20-25'], ['Tarsier', '12'], ['Tasmanian Devil', '5-8'], ['Tawny Owl', '4'], ['Termite', '2'], ['Tetra', '2-5'], ['Thorny Devil', '12-20'], ['Tibetan Mastiff', '15'], ['Tiffany', '15'], ['Tiger', '18-25'], ['Tiger Salamander', '10-15'], ['Tiger Shark', '30-40'], ['Tortoise', '30-150'], ['Toucan', '12'], ['Tree Frog', '2-4'], ['Tropicbird', '10'], ['Tuatara', '50-100'], ['Turkey', '1-10'], ['Turkish Angora', '14'], ['Uakari', '16'], ['Uguisu', '2'], ['Umbrellabird', '12'], ['Vampire Bat', '8'], ['Vervet Monkey', '12'], ['Vulture', '20'], ['Wallaby', '12-15'], ['Walrus', '40'], ['Warthog', '12-18'], ['Wasp', '22'], ['Water Buffalo', '15-25'], ['Water Dragon', '10-20'], ['Water Vole', '0.5'], ['Weasel', '1'], ['Welsh Corgi', '13'], ['West Highland Terrier', '15'], ['Western Gorilla', '35'], ['Western Lowland Gorilla', '35'], ['Whale Shark', '60-70'], ['Whippet', '15'], ['White Faced Capuchin', '16-40'], ['White Tiger', '10'], ['Wild Boar', '15'], ['Wildebeest', '15-20'], ['Wolf', '10-12'], ['Wolverine', '10-15'], ['Wombat', '20-26'], ['Woodlouse', '2'], ['Woodpecker', '6-11'], ['Woolly Mammoth', '60'], ['Woolly Monkey', '7-10'], ['Wrasse', '3'], ['X-Ray Tetra', '2'], ['Yak', '15-20'], ['Yellow-Eyed Penguin', '10'], ['Yorkshire Terrier', '15'], ['Zebra', '20'], ['Zebra Shark', '15'], ['Zebu', '12-16'], ['Zonkey', '15'], ['Zorse', '15']]\n"
     ]
    }
   ],
   "source": [
    "def ReadCSV(FileName):\n",
    "    with open(FileName, newline = '') as File:\n",
    "        reader = csv.reader(File)\n",
    "        data = []\n",
    "        for row in reader:\n",
    "            data.append(row)\n",
    "        return(data)\n",
    "print(ReadCSV('animals.csv'))"
   ]
  },
  {
   "cell_type": "code",
   "execution_count": 42,
   "metadata": {},
   "outputs": [
    {
     "name": "stdout",
     "output_type": "stream",
     "text": [
      "['15', '10', '12', '14', '60', '15', '8', '60', '15', '10', '3', '10', '12', '12', '11', '10', '14', '12', '80', '30', '12', '14', '15', '12', '15', '11', '12', '12', '12', '13', '8', '3', '9', '10', '12', '7', '3', '7', '4', '55', '3', '15', '15', '14', '14', '14', '14', '10', '10', '10', '15', '35', '4', '15', '15', '3-7', '3', '5', '8', '10', '12', '20', '12', '10', '14', '15', '15', '14', '6', '15', '16', '3', '18', '8', '15', '10', '1', '5', '20', '15', '15', '45-50', '11', '3', '12', '16', '30', '12', '12', '14', '13', '10', '30', '12', '20', '15', '30', '55', '15', '20', '11', '16', '14', '20', '3', '15', '10', '16', '15', '14', '6', '1', '12', '10', '40', '6', '20', '10', '14', '40', '15', '8', '12', '19', '40', '15', '3', '8', '15', '5', '15', '4', '18', '10', '13', '2', '18', '50', '10', '13', '14', '15', '4', '10', '5', '11', '4', '15', '8-15', '18', '10', '13', '12', '5', '15', '2', '15', '8', '10', '12', '10', '1', '15', '15', '15', '20', '35', '14', '8', '1', '15', '10', '10', '25', '12', '10', '7', '8', '12', '10', '15', '13', '12', '20', '15', '2', '6', '14', '4', '50', '14', '18', '40', '15', '1', '35', '35', '15', '5', '14', '15', '55', '18', '2', '15', '8', '12', '15', '16', '12', '12', '13', '14', '16', '12', '10', '7', '14', '50', '10', '1', '10', '15', '12', '3', '25', '5', '15', '3', '14', '12', '15', '10', '1', '12', '15', '100-150', '10', '2-9', '15', '8', '3-5', '15', '12', '30', '3-10', '20-100', '20', '25-40', '20-30', '20', '10', '5', '10-15', '8-15', '8', '12', '12', '3-5', '35-50', '1', '7', '30', '12', '12', '12', '3', '22-28', '18-25', '11', '15', '1', '10', '3', '2', '20-25', '2-3', '2-8', '16', '15', '3-6', '3', '1-10', '15', '15-22', '14', '30', '6', '12', '5-8', '25-30', '20', '15-20', '60-80', '15', '3', '50-60', '20-25', '8', '14', '15-20', '12-15', '55', '2-4', '45-50', '30', '18', '15', '2', '16', '9', '16', '8-15', '12', '14', '25', '30-45', '14', '1-5', '50-65', '4-10', '15', '50-60', '15-30', '15', '6', '8', '15', '25', '8-14', '12', '15', '2', '2', '1-3', '10-14', '10', '10', '20-24', '50', '18', '8', '10', '10', '1-30', '15-20', '20-80', '40', '12-20', '15-20', '50', '15', '8', '12', '15', '18', '17', '50-70', '20-28', '15', '10', '10', '5', '15', '12', '1-2', '10', '7', '30-50', '3-6', '3', '10-15', '8-30', '10-30', '1', '1', '10-16', '10-30', '40', '35-50', '10-20', '2-5', '15-20', '35-50', '10', '10', '2-15', '1', '15', '15', '4-8', '20-25', '8', '2-15', '20', '12', '10', '2-7', '30', '50', '15-25', '1', '4-8', '12', '40', '12', '12', '13', '16', '20', '19', '7', '8', '8-15', '3-6', '12', '5', '20', '9', '13', '2-4', '20', '1', '16', '1', '8-12', '5-8', '2', '15', '4', '15', '14', '10', '1', '3', '30', '8-12', '3', '20', '5', '3-6', '4-8', '12-16', '3', '30', '14', '2-5', '20-30', '8', '10', '8', '12-15', '30-45', '12-18', '10-30', '1', '5', '15', '10', '9', '15', '14', '20', '10', '5-20', '5', '8', '4-25', '10', '2', '15-22', '12-15', '1-4', '7-30', '60-80', '15-200', '2', '15-25', '10', '5-10', '15', '1-2', '12', '1', '15', '14', '18', '2', '5-8', '25-40', '10', '1', '30', '20-32', '14', '10', '19', '18', '4-8', '4', '20', '50', '15-27', '25-80', '15-30', '5-30', '2-8', '15', '55', '14', '3', '3-27', '50', '1-2', '15', '4-6', '10', '55', '30', '30-45', '18', '15', '8', '8', '30', '20-25', '12', '5-8', '4', '2', '2-5', '12-20', '15', '15', '18-25', '10-15', '30-40', '30-150', '12', '2-4', '10', '50-100', '1-10', '14', '16', '2', '12', '8', '12', '20', '12-15', '40', '12-18', '22', '15-25', '10-20', '0.5', '1', '13', '15', '35', '35', '60-70', '15', '16-40', '10', '15', '15-20', '10-12', '10-15', '20-26', '2', '6-11', '60', '7-10', '3', '2', '15-20', '10', '15', '20', '15', '12-16', '15', '15']\n"
     ]
    }
   ],
   "source": [
    "import csv\n",
    "def GetData(data):\n",
    "  \n",
    "    result= []\n",
    "    # We start in 1, just to delete headers\n",
    "    for i in range(1,len(data)):\n",
    "        result.append(data[i].pop(1))\n",
    "    return(result) \n",
    "lifestan = ReadCSV('animals.csv')\n",
    "\n",
    "print(GetData(lifestan))"
   ]
  },
  {
   "cell_type": "markdown",
   "metadata": {},
   "source": [
    "Now, we can analyze the data:"
   ]
  },
  {
   "cell_type": "code",
   "execution_count": null,
   "metadata": {},
   "outputs": [],
   "source": [
    "import statistics as stats\n",
    "print(\"\"\"\n",
    "    Mean: %d\n",
    "    Median: %d\n",
    "    Mode: %d\n",
    "    Range: %d\n",
    "\"\"\" % (stats.mean(lifestan),stats.median(lifestan),stats.mode(lifestan), max(lifestan)-min(lifestan)))"
   ]
  },
  {
   "cell_type": "code",
   "execution_count": null,
   "metadata": {},
   "outputs": [],
   "source": [
    "print(\"\"\"\n",
    "    Variance: %d\n",
    "    Standar Desviation: %d\n",
    "\"\"\" % (stats.pvariance(lifestan),stats.pstdev(lifestan)))"
   ]
  },
  {
   "cell_type": "code",
   "execution_count": null,
   "metadata": {},
   "outputs": [],
   "source": [
    "import pandas as pd\n",
    "\n",
    "def absFrec(data):\n",
    "    datos = pd.Series(data)\n",
    "    return (datos.value_counts())\n",
    "\n",
    "def absFrec_acum(data):\n",
    "    datos = pd.Series(absFrec(data))\n",
    "    return datos.cumsum()\n",
    " \n",
    "print(\"Absolute frecuency group by mpg: \\n\", (pd.Series(data)).value_counts())\n",
    "print(\"\\nAbsolute acumulative frecuency group by mpg: \\n\", ((pd.Series(data)).value_counts()).cumsum())"
   ]
  },
  {
   "cell_type": "code",
   "execution_count": null,
   "metadata": {},
   "outputs": [],
   "source": [
    "def relFrec(data):\n",
    "    datos = pd.Series(data)\n",
    "    for i in range(len(data)):\n",
    "        return (absFrec(data)/len(data))\n",
    "        \n",
    "\n",
    "def relFrec_acum(data):\n",
    "    datos = pd.Series(relFrec(data))\n",
    "    return datos.cumsum()\n",
    " \n",
    "\n",
    "print(\"Absolute frecuency group by mpg: \\n\", relFrec(data))\n",
    "print(\"\\nAbsolute acumulative frecuency group by mpg: \\n\", relFrec_acum(data))\n"
   ]
  },
  {
   "cell_type": "code",
   "execution_count": null,
   "metadata": {},
   "outputs": [],
   "source": [
    "import numpy as np\n",
    "def quantiles(data, num):\n",
    "    datos = pd.DataFrame(np.array(data))\n",
    "    return datos.quantile(num)\n",
    "\n",
    "print(\"54ª QUANTILE: \",quantiles(s, .54))"
   ]
  },
  {
   "cell_type": "code",
   "execution_count": null,
   "metadata": {},
   "outputs": [],
   "source": [
    "def rootMeanSqr(data):\n",
    "    return(stats.mean(data)**(1/2))\n",
    "rootMeanSqr(s)"
   ]
  },
  {
   "cell_type": "code",
   "execution_count": null,
   "metadata": {},
   "outputs": [],
   "source": [
    "def rootMeanSqrAn (data, media):\n",
    "    res = 0\n",
    "    for i in range(len(data)):\n",
    "        anomaly =  (data[i]- media**2)/len(data) + res\n",
    "        res = anomaly\n",
    "    return res\n",
    "rootMeanSqrAn(s, rootMeanSqr(s) )\n",
    "    "
   ]
  }
 ],
 "metadata": {
  "kernelspec": {
   "display_name": "Python 3",
   "language": "python",
   "name": "python3"
  },
  "language_info": {
   "codemirror_mode": {
    "name": "ipython",
    "version": 3
   },
   "file_extension": ".py",
   "mimetype": "text/x-python",
   "name": "python",
   "nbconvert_exporter": "python",
   "pygments_lexer": "ipython3",
   "version": "3.7.3"
  }
 },
 "nbformat": 4,
 "nbformat_minor": 2
}
