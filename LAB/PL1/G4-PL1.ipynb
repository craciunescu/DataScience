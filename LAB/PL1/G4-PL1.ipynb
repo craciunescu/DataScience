{
 "cells": [
  {
   "cell_type": "code",
   "execution_count": 31,
   "metadata": {},
   "outputs": [
    {
     "name": "stdout",
     "output_type": "stream",
     "text": [
      "[['nombre', 'radio'], ['CORDELIA', '13'], ['OFELIA', '16'], ['BIANCA', '22'], ['CRESIDA', '33'], ['LESDEMONA', '39'], ['JULIETA', '42'], ['ROSALINDA', '27'], ['BELINDA', '34'], ['LUNA-1986U1020', '20'], ['CALIBANO', '30'], ['LUNA-119', '20'], ['LUNA_119U2', '15']]\n"
     ]
    }
   ],
   "source": [
    "import csv\n",
    "\n",
    "with open('satelites.csv', newline = '') as File:\n",
    "    reader = csv.reader(File)\n",
    "    data = []\n",
    "    for row in reader:\n",
    "        data.append(row)\n",
    "    #print(data)\n",
    "\n",
    "filtrado= []\n",
    "for i in range(len(data)):\n",
    "    fil = \"\".join(map(str, list(filter(lambda x: x!= '\\t', list(data[i]))))).split()\n",
    "    filtrado.append(fil)\n",
    "\n",
    "print(filtrado)\n",
    "\n",
    "for i in range(len(filtrado)):\n",
    "    \n",
    " \n"
   ]
  },
  {
   "cell_type": "code",
   "execution_count": 17,
   "metadata": {},
   "outputs": [
    {
     "data": {
      "text/plain": [
       "25.916666666666668"
      ]
     },
     "execution_count": 17,
     "metadata": {},
     "output_type": "execute_result"
    }
   ],
   "source": [
    "import statistics as stats\n",
    "def media(datos):\n",
    "    return (stats.mean(datos) )\n",
    "    \n",
    "media([13,16,22,33,39,42,27,34,20,30,20,15])"
   ]
  },
  {
   "cell_type": "code",
   "execution_count": 19,
   "metadata": {},
   "outputs": [],
   "source": [
    "def moda(datos):\n",
    "    return (stats.mode(datos))"
   ]
  },
  {
   "cell_type": "code",
   "execution_count": null,
   "metadata": {},
   "outputs": [],
   "source": [
    "def mediana(datos):\n",
    "    return(stats.median(datos))"
   ]
  },
  {
   "cell_type": "code",
   "execution_count": 20,
   "metadata": {},
   "outputs": [],
   "source": [
    "def varianza(datos):\n",
    "    return(stats.pvariance(datos)) #o con variance"
   ]
  },
  {
   "cell_type": "code",
   "execution_count": 21,
   "metadata": {},
   "outputs": [],
   "source": [
    "def desvacion_estandar(datos):\n",
    "    return(stats.pstdev(datos)) #o con stdev"
   ]
  },
  {
   "cell_type": "code",
   "execution_count": 23,
   "metadata": {},
   "outputs": [
    {
     "data": {
      "text/plain": [
       "20    2\n",
       "15    1\n",
       "30    1\n",
       "13    1\n",
       "27    1\n",
       "42    1\n",
       "39    1\n",
       "22    1\n",
       "34    1\n",
       "33    1\n",
       "16    1\n",
       "dtype: int64"
      ]
     },
     "execution_count": 23,
     "metadata": {},
     "output_type": "execute_result"
    }
   ],
   "source": [
    "import pandas as pd\n",
    "def frecuencia_absoluta(datos):\n",
    "    datos = pd.Series(datos)\n",
    "    return (datos.value_counts())\n",
    "    \n",
    "frecuencia_absoluta([13,16,22,33,39,42,27,34,20,30,20,15])"
   ]
  },
  {
   "cell_type": "code",
   "execution_count": 24,
   "metadata": {},
   "outputs": [
    {
     "data": {
      "text/plain": [
       "20    0.166667\n",
       "15    0.083333\n",
       "30    0.083333\n",
       "13    0.083333\n",
       "27    0.083333\n",
       "42    0.083333\n",
       "39    0.083333\n",
       "22    0.083333\n",
       "34    0.083333\n",
       "33    0.083333\n",
       "16    0.083333\n",
       "dtype: float64"
      ]
     },
     "execution_count": 24,
     "metadata": {},
     "output_type": "execute_result"
    }
   ],
   "source": [
    "def frecuencia_relativa(datos):\n",
    "    datos = pd.Series(datos)\n",
    "    for i in range(len(datos)):\n",
    "        return (frecuencia_absoluta(datos)/len(datos))\n",
    "frecuencia_relativa([13,16,22,33,39,42,27,34,20,30,20,15])"
   ]
  },
  {
   "cell_type": "code",
   "execution_count": null,
   "metadata": {},
   "outputs": [],
   "source": []
  }
 ],
 "metadata": {
  "kernelspec": {
   "display_name": "Python 3",
   "language": "python",
   "name": "python3"
  },
  "language_info": {
   "name": ""
  }
 },
 "nbformat": 4,
 "nbformat_minor": 4
}
