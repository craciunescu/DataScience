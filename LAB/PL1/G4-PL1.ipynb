{
 "cells": [
  {
   "cell_type": "markdown",
   "metadata": {},
   "source": [
    "Lo primero que haremos será leer los datos del CSV, para después filtrar esos datos eliminando caracteres no deseados como '\\t' y por último, obteniendo un array de los radios, que serán los datos que realmente\n",
    "queremos tratar"
   ]
  },
  {
   "cell_type": "code",
   "execution_count": 127,
   "metadata": {},
   "outputs": [
    {
     "name": "stdout",
     "output_type": "stream",
     "text": [
      "[13, 16, 22, 33, 39, 42, 27, 34, 20, 30, 20, 15]\n",
      "-----------\n",
      "[13, 16, 22, 33, 39, 42, 27, 34, 20, 30, 20, 15]\n"
     ]
    },
    {
     "data": {
      "text/plain": [
       "int"
      ]
     },
     "execution_count": 127,
     "metadata": {},
     "output_type": "execute_result"
    }
   ],
   "source": [
    "import csv\n",
    "def getDatosCSV(FileName):\n",
    "    with open(FileName, newline = '') as File:\n",
    "        reader = csv.reader(File)\n",
    "        data = []\n",
    "        for row in reader:\n",
    "            data.append(row)\n",
    "        return(data)\n",
    "\n",
    "def getRadios(data):\n",
    "    filtrado= []\n",
    "    for i in range(len(data)):\n",
    "        fil = \"\".join(map(str, list(filter(lambda x: x!= '\\t', list(data[i]))))).split()\n",
    "        filtrado.append(fil)\n",
    "\n",
    "    result= []\n",
    "    for i in range(1,len(filtrado)):\n",
    "        result.append(filtrado[i].pop(1))\n",
    "    return(result)\n",
    "    \n",
    "def convertir(data):\n",
    "    res= []\n",
    "    for i in range(len(data)):\n",
    "        res.append(int(data[i]))\n",
    "    print(res)\n",
    "    return res\n",
    "\n",
    "\n",
    "\n",
    "\n",
    "    \n",
    "t1= convertir(getRadios(getDatosCSV('satelites.csv')))\n",
    "        "
   ]
  },
  {
   "cell_type": "markdown",
   "metadata": {},
   "source": [
    "A continuación, realizaremos los diferentes tratamientos sobre los datos: moda, mediana, rango, varianza, desviación estándar, frecuencias absolutas y relativas, así como sus totales"
   ]
  },
  {
   "cell_type": "code",
   "execution_count": 131,
   "metadata": {},
   "outputs": [
    {
     "name": "stdout",
     "output_type": "stream",
     "text": [
      "MEDIA:      25.916666666666668\n"
     ]
    }
   ],
   "source": [
    "import statistics as stats\n",
    "def media(datos):\n",
    "    return (stats.mean(datos) )\n",
    "print(\"MEDIA:     \",media(t1))"
   ]
  },
  {
   "cell_type": "code",
   "execution_count": 135,
   "metadata": {},
   "outputs": [
    {
     "name": "stdout",
     "output_type": "stream",
     "text": [
      "RANGO:      29\n"
     ]
    }
   ],
   "source": [
    "def rango(datos):\n",
    "    return (max(datos)-min(datos))\n",
    "print(\"RANGO:     \",rango(t1))"
   ]
  },
  {
   "cell_type": "code",
   "execution_count": 134,
   "metadata": {},
   "outputs": [
    {
     "name": "stdout",
     "output_type": "stream",
     "text": [
      "MODA:       20\n"
     ]
    }
   ],
   "source": [
    "def moda(datos):\n",
    "    return (stats.mode(datos))\n",
    "print(\"MODA:      \", moda(t1))"
   ]
  },
  {
   "cell_type": "code",
   "execution_count": 133,
   "metadata": {},
   "outputs": [
    {
     "name": "stdout",
     "output_type": "stream",
     "text": [
      "MEDIANA:      24.5\n"
     ]
    }
   ],
   "source": [
    "def mediana(datos):\n",
    "    return(stats.median(datos))\n",
    "print(\"MEDIANA:     \",mediana(t1))"
   ]
  },
  {
   "cell_type": "code",
   "execution_count": 132,
   "metadata": {},
   "outputs": [
    {
     "name": "stdout",
     "output_type": "stream",
     "text": [
      "VARIANZA 86.07638888888889\n"
     ]
    }
   ],
   "source": [
    "def varianza(datos):\n",
    "    return(stats.pvariance(datos)) #o con variance\n",
    "print(\"VARIANZA\", varianza(t1))"
   ]
  },
  {
   "cell_type": "code",
   "execution_count": 21,
   "metadata": {},
   "outputs": [],
   "source": [
    "def desvacion_estandar(datos):\n",
    "    return(stats.pstdev(datos)) #o con stdev"
   ]
  },
  {
   "cell_type": "code",
   "execution_count": 108,
   "metadata": {},
   "outputs": [
    {
     "data": {
      "text/plain": [
       "20    2\n",
       "15    1\n",
       "30    1\n",
       "13    1\n",
       "27    1\n",
       "42    1\n",
       "39    1\n",
       "22    1\n",
       "34    1\n",
       "33    1\n",
       "16    1\n",
       "dtype: int64"
      ]
     },
     "execution_count": 108,
     "metadata": {},
     "output_type": "execute_result"
    }
   ],
   "source": [
    "import pandas as pd\n",
    "def frecuencia_absoluta(datos):\n",
    "    datos = pd.Series(datos)\n",
    "    return (datos.value_counts())\n",
    "    \n",
    "\n",
    "frecuencia_absoluta([13, 16, 22, 33, 39, 42, 27, 34, 20, 30, 20, 15])\n",
    "\n",
    "\n",
    "\n"
   ]
  },
  {
   "cell_type": "code",
   "execution_count": 112,
   "metadata": {},
   "outputs": [
    {
     "name": "stdout",
     "output_type": "stream",
     "text": [
      "-----\n"
     ]
    }
   ],
   "source": [
    "def frecuencia_abs_t(datos):\n",
    "    sum = 0\n",
    "    for i in range(len(datos)):\n",
    "        res = frecuencia_absoluta(datos).pop(i) + sum\n",
    "        sum = res\n",
    "    return res\n",
    " \n",
    "\n",
    "print(\"-----\")\n",
    "#frecuencia_abs_t([13, 16, 22, 33, 39, 42, 27, 34, 20, 30, 20, 15])"
   ]
  },
  {
   "cell_type": "code",
   "execution_count": 45,
   "metadata": {},
   "outputs": [],
   "source": [
    "def frecuencia_relativa(datos):\n",
    "    datos = pd.Series(datos)\n",
    "    for i in range(len(datos)):\n",
    "        return (frecuencia_absoluta(datos)/len(datos))"
   ]
  },
  {
   "cell_type": "code",
   "execution_count": 86,
   "metadata": {},
   "outputs": [
    {
     "data": {
      "text/plain": [
       "0    1.3\n",
       "1    3.7\n",
       "Name: 0.1, dtype: float64"
      ]
     },
     "execution_count": 86,
     "metadata": {},
     "output_type": "execute_result"
    }
   ],
   "source": [
    "import numpy as np\n",
    "def cuantiles(datos, num):\n",
    "    datos = pd.DataFrame(np.array(datos))\n",
    "    return datos.quantile(num)\n",
    "    \n",
    "cuantiles([[1, 1], [2, 10], [3, 100], [4, 100]], .1)"
   ]
  },
  {
   "cell_type": "code",
   "execution_count": 94,
   "metadata": {},
   "outputs": [
    {
     "data": {
      "text/plain": [
       "5.090841449767088"
      ]
     },
     "execution_count": 94,
     "metadata": {},
     "output_type": "execute_result"
    }
   ],
   "source": [
    "def mediaCuadrado(datos):\n",
    "    return(media(datos)**(1/2))\n",
    "mediaCuadrado([13, 16, 22, 33, 39, 42, 27, 34, 20, 30, 20, 15])"
   ]
  },
  {
   "cell_type": "code",
   "execution_count": 99,
   "metadata": {},
   "outputs": [
    {
     "data": {
      "text/plain": [
       "2.3314683517128287e-15"
      ]
     },
     "execution_count": 99,
     "metadata": {},
     "output_type": "execute_result"
    }
   ],
   "source": [
    "def anomalia(datos, media):\n",
    "    res = 0\n",
    "    for i in range(len(datos)):\n",
    "        anomalia =  (datos[i]- media**2)/len(datos) + res\n",
    "        res = anomalia\n",
    "    return res\n",
    "        \n",
    "anomalia([13, 16, 22, 33, 39, 42, 27, 34, 20, 30, 20, 15], 5.090841449767088 )\n",
    "    \n",
    "    "
   ]
  },
  {
   "cell_type": "code",
   "execution_count": 141,
   "metadata": {},
   "outputs": [
    {
     "name": "stdout",
     "output_type": "stream",
     "text": [
      "Collecting pyreadstat\n",
      "  Downloading https://files.pythonhosted.org/packages/21/bf/7a38bcc990f310c663ea9e6ad9b307c945a8e5b9bacb456d9111f2111ab0/pyreadstat-0.2.9-cp37-cp37m-win_amd64.whl (1.2MB)\n",
      "Installing collected packages: pyreadstat\n",
      "Successfully installed pyreadstat-0.2.9\n"
     ]
    }
   ],
   "source": [
    "!pip install pyreadstat\n"
   ]
  },
  {
   "cell_type": "code",
   "execution_count": 182,
   "metadata": {},
   "outputs": [],
   "source": [
    "import pyreadstat\n",
    "\n",
    "def getDataSav():\n",
    "    df, meta = pyreadstat.read_sav(\"cardata.sav\")\n",
    "    return df"
   ]
  },
  {
   "cell_type": "code",
   "execution_count": 157,
   "metadata": {},
   "outputs": [
    {
     "data": {
      "text/plain": [
       "'0.24.2'"
      ]
     },
     "execution_count": 157,
     "metadata": {},
     "output_type": "execute_result"
    }
   ],
   "source": [
    "import pandas\n",
    "pandas.__version__"
   ]
  },
  {
   "cell_type": "code",
   "execution_count": 177,
   "metadata": {},
   "outputs": [
    {
     "name": "stdout",
     "output_type": "stream",
     "text": [
      "[36.1 19.9 19.4 20.2 19.2 20.5 20.2 25.1 20.5 19.4 20.6 20.8 18.6 18.1\n",
      " 19.2 17.7 18.1 17.5 30.  30.9 23.2 23.8 21.5 19.8 22.3 20.2 20.6 17.\n",
      " 17.6 16.5 18.2 16.9 15.5 19.2 18.5 35.7 27.4 23.  23.9 34.2 34.5 28.4\n",
      " 28.8 26.8 33.5 32.1 28.  26.4 24.3 19.1 27.9 23.6 27.2 26.6 25.8 23.5\n",
      " 30.  39.  34.7 34.4 29.9 22.4 26.6 20.2 17.6 28.  27.  34.  31.  29.\n",
      " 27.  24.  23.  38.  36.  25.  38.  26.  22.  36.  27.  27.  32.  28.\n",
      " 31.  43.1 20.3 17.  21.6 16.2 31.5 31.9 25.4 27.2 37.3 41.5 34.3 44.3\n",
      " 43.4 36.4 30.4 40.9 29.8 35.  33.  34.5 28.1 30.7 36.  44.  32.8 39.4\n",
      " 36.1 27.5 27.2 21.1 23.9 29.5 34.1 31.8 38.1 37.2 29.8 31.3 37.  32.2\n",
      " 46.6 40.8 44.6 33.8 32.7 23.7 32.4 39.1 35.1 32.3 37.  37.7 34.1 33.7\n",
      " 32.4 32.9 31.6 25.4 24.2 37.  31.  36.  36.  34.  38.  32.  38.  32. ]\n"
     ]
    }
   ],
   "source": [
    "data = np.array(df.get(\"mpg\").dropna())\n",
    "print(data)"
   ]
  },
  {
   "cell_type": "code",
   "execution_count": null,
   "metadata": {},
   "outputs": [],
   "source": [
    "\n"
   ]
  },
  {
   "cell_type": "code",
   "execution_count": null,
   "metadata": {},
   "outputs": [],
   "source": [
    "\n"
   ]
  },
  {
   "cell_type": "code",
   "execution_count": null,
   "metadata": {},
   "outputs": [],
   "source": []
  },
  {
   "cell_type": "code",
   "execution_count": null,
   "metadata": {},
   "outputs": [],
   "source": []
  }
 ],
 "metadata": {
  "kernelspec": {
   "display_name": "Python 3",
   "language": "python",
   "name": "python3"
  },
  "language_info": {
   "name": ""
  }
 },
 "nbformat": 4,
 "nbformat_minor": 4
}
